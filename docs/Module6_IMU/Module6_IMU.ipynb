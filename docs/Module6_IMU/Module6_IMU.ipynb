{
 "cells": [
  {
   "cell_type": "markdown",
   "id": "b8e11e7d",
   "metadata": {},
   "source": [
    "# Module 6: Inertial Measurement Unit\n",
    "---\n",
    "### A note on this document\n",
    "Now that you have a better understanding of the Linux operating system and Python programming language the Jupyter Notebooks will be used primarily to guide you through the In-Class Exercises and Laboratories. You will execute the majority of your commands and code within the Linux terminal."
   ]
  },
  {
   "cell_type": "markdown",
   "id": "bdcfe0aa",
   "metadata": {},
   "source": [
    "## Purpose\n",
    "In practice, an inertial measurement unit (IMU) device provides orientation, angular velocity, and linear acceleration. The [ICM-20648 6-Axis MEMS MotionTracking Device](https://invensense.tdk.com/products/motion-tracking/6-axis/icm-20648/) from TDK includes a 3-axis gyroscope, 3-axis accelerometer, and a Digital Motion Processor (DMP). This IMU is integrated on the OpenCR1.0 board, an open source robot controller embedded with an ARM Cortex-M7 processor. The OpenCR combines sensor data using an EKF to generate IMU estimates 170 times a second.\n",
    "\n",
    "![logo](Figures/IMU.jpg)\n",
    "\n",
    "The IMU provides values that are part of the robot state and allow the robot to navigate more accurately. Combined with data from the tachometers these values provide the odometry of the robot to estimate change in position over time. We will primarily use the IMU to perform 90 and 180 degree turns.\n",
    "\n",
    "![logo](Figures/bot.PNG)"
   ]
  },
  {
   "cell_type": "markdown",
   "id": "d599c646",
   "metadata": {},
   "source": [
    "## Calibrating the IMU\n",
    "As described above, there are a number of different sensors that work together to provide the attitude and heading estimates for the Turtlebot3. These sensors are sensitive to magnetic fields which are unique to locale and device. As you will learn in future ECE classes, all electronic devices create small magnetic fields. Even electrons traveling over a wire create magnetic fields. The OpenCR board and IMU are strategically placed in the center of the robot for best attitude and heading performance, however, this location is also in the center of a number of magnetic fields. Luckily for us, the creators of the Turtlebot3 were aware of these issues and whenever you run the serial node to connect to the robot the IMU is calibrated."
   ]
  },
  {
   "cell_type": "markdown",
   "id": "38d5ef41",
   "metadata": {},
   "source": [
    "## Setup\n",
    "The ICM-20648 is already integrated into the Turtlebot3 robot, therefore, there is no setup required. Whenever the serial node is ran to connect to the OpenCR board, the IMU is initialized and will start publishing data."
   ]
  },
  {
   "cell_type": "markdown",
   "id": "fac41d2a",
   "metadata": {
    "jp-MarkdownHeadingCollapsed": true,
    "tags": []
   },
   "source": [
    "## Test the IMU\n",
    "Open a new terminal on the master and run roscore and setup for statistics:\n",
    "\n",
    "```bash\n",
    "roscore\n",
    "rosparam set enable_statistics true\n",
    "```\n",
    "\n",
    "Create a secure shell connection to your **Robot** and launch the Turtlebot3 core launchfile.\n",
    "\n",
    "```bash\n",
    "roslaunch turtlebot3_bringup turtlebot3_core.launch\n",
    "```\n",
    "\n",
    "Open a new terminal on your **Master** and observe what topics are running.\n",
    "\n",
    "You should note two topics of interest: **/imu** and **/odom**.\n",
    "\n",
    "Echo the output of each of the topics and rotate the **Robot** to see the values change.\n",
    "\n",
    "The **/imu** topic combines information from the gyroscope and accelerometer to provide orientation, angular velocity, and linear acceleration. The **/odom** topic combines the information from the **/imu** topic and tachometers to estimate position, orientation, and linear and angular velocities.\n",
    "\n",
    "Both of these topics provide the orientation of the robot using a quaternion representation. While quaternions can make computation easier, they are not very human readable, so we will convert to Euler angles. To do this we will use a Python library called [squaternion](https://pypi.org/project/squaternion/).\n",
    "\n",
    "The two main functions we will use from the squaternion library:\n",
    "\n",
    "First we will need to create a Quaternion object:\n",
    "```\n",
    "q = Quaternion(w, x, y, z)\n",
    "```\n",
    "\n",
    "Then we will conver that Quaternion to an Euler:\n",
    "```\n",
    "e = q.to_euler(degrees=True)\n",
    "```\n",
    "\n",
    "Now we have `e`, an array representing our Euler angles, `e[roll, pitch, yaw]`.\n",
    "\n",
    "You can keep the node running for the next portion of the lesson."
   ]
  },
  {
   "cell_type": "markdown",
   "id": "06983c8b",
   "metadata": {},
   "source": [
    "## Write the Subscriber\n",
    "1. In a new terminal on the **Master**, create an **ice6** package which depends on the *geometry_msgs*, *rospy*, and *turtlebot3_bringup* packages, compile and source the workspace:\n",
    "\n",
    "    ```bash\n",
    "    cd ~/master_ws/src/ece387_master_sp2X-USERNAME/master\n",
    "    catkin_create_pkg ice6 std_msgs rospy turtlebot3_bringup\n",
    "    cd ~/master_ws\n",
    "    catkin_make\n",
    "    source ~/.bashrc\n",
    "    ```\n",
    "\n",
    "1. Create an IMU node:\n",
    "\n",
    "    ```bash\n",
    "    roscd ice6/src\n",
    "    touch imu_sub.py\n",
    "    ```\n",
    "    \n",
    "1. Copy and complete the below code using the GUI editor tool, **Sublime**. Browse to the subscriber you just created and double-click. This will open the file in **Sublime** (if it is open in any other editor, stop, raise your hand, and get help from an instructor)\n",
    "> 💡️ **Tip:** Look for the **\"TODO\"** tag which indicates where you should insert your own code."
   ]
  },
  {
   "cell_type": "markdown",
   "id": "841f3a4b",
   "metadata": {},
   "source": [
    "```python\n",
    "#!/usr/bin/env python3\n",
    "import rospy\n",
    "from squaternion import Quaternion\n",
    "# TODO: import message type sent over imu topic\n",
    "\n",
    "\n",
    "class IMU:\n",
    "    \"\"\"Class to read orientation data from Turtlebot3 IMU\"\"\"\n",
    "    def __init__(self):        \n",
    "        # TODO: subscribe to the imu topic that is published by the\n",
    "        # Turtlebot3 and provides the robot orientation\n",
    "\n",
    "\n",
    "        # nicely handle shutdown (Ctrl+c)\n",
    "        self.ctrl_c = False\n",
    "        rospy.on_shutdown(self.shutdownhook)\n",
    "\n",
    "    # The IMU provides yaw from -180 to 180. This function\n",
    "    # converts the yaw (in degrees) to 0 to 360\n",
    "    def convert_yaw (self, yaw):\n",
    "        return 360 + yaw if yaw < 0 else yaw\t\t\n",
    "\n",
    "    # Print the current Yaw\n",
    "    def callback_imu(self, imu):\n",
    "        if not self.ctrl_c:\n",
    "            # TODO: create a quaternion using the x, y, z, and w values\n",
    "            # from the correct imu message\n",
    "            \n",
    "            \n",
    "            # TODO: convert the quaternion to euler in degrees\n",
    "            \n",
    "            \n",
    "            # TODO: get the yaw component of the euler\n",
    "            yaw = \n",
    "\n",
    "            # convert yaw from -180 to 180 to 0 to 360\n",
    "            yaw = self.convert_yaw(yaw)\n",
    "            print(\"Current heading is %f degrees.\" % (yaw))\n",
    "\n",
    "    # clean shutdown\n",
    "    def shutdownhook(self):\n",
    "        print(\"Shutting down the IMU subscriber\")\n",
    "        self.ctrl_c = True\n",
    "\n",
    "if __name__ == '__main__':\n",
    "    rospy.init_node('imu_sub')\n",
    "    IMU()\n",
    "    rospy.spin()\n",
    "```"
   ]
  },
  {
   "cell_type": "markdown",
   "id": "30c60e17",
   "metadata": {},
   "source": [
    "4. Save, exit, and make the node executable.\n",
    "\n",
    "4. Open a new terminal on the **Master** and run the **imu_sub.py** node.\n",
    "\n",
    "4. Rotate the **Robot** and observe the output."
   ]
  },
  {
   "cell_type": "markdown",
   "id": "3ec8f1b8",
   "metadata": {},
   "source": [
    "## Checkpoint\n",
    "Once complete, get checked off by an instructor showing the output of your **imu_sub** and **rqt_graph** node.  Push your ice6 package to your repo for credit"
   ]
  },
  {
   "cell_type": "markdown",
   "id": "b9b76844",
   "metadata": {},
   "source": [
    "## Summary\n",
    "In this lesson you learned how to utilize the on-board IMU and determine the orientation of the Turtlebot3. In the lab that corresponds to this lesson you will apply this knowledge to turn the robot in 90 and 180 degree turns.ROS"
   ]
  },
  {
   "cell_type": "markdown",
   "id": "c7177584",
   "metadata": {},
   "source": [
    "## Cleanup\n",
    "In each terminal window, close the node by typing `ctrl+c`. Exit any SSH connections. Shutdown the notebook server by typing `ctrl+c` within the terminal you ran `jupyter-lab` in. Select 'y'.\n",
    "\n",
    "**Ensure roscore is terminated before moving on to the lab.**"
   ]
  }
 ],
 "metadata": {
  "kernelspec": {
   "display_name": "Python 3",
   "language": "python",
   "name": "python3"
  },
  "language_info": {
   "codemirror_mode": {
    "name": "ipython",
    "version": 3
   },
   "file_extension": ".py",
   "mimetype": "text/x-python",
   "name": "python",
   "nbconvert_exporter": "python",
   "pygments_lexer": "ipython3",
   "version": "3.8.10"
  },
  "toc": {
   "base_numbering": 1,
   "nav_menu": {
    "height": "339px",
    "width": "355px"
   },
   "number_sections": true,
   "sideBar": true,
   "skip_h1_title": true,
   "title_cell": "Table of Contents",
   "title_sidebar": "Contents",
   "toc_cell": false,
   "toc_position": {
    "height": "calc(100% - 180px)",
    "left": "10px",
    "top": "150px",
    "width": "312.867px"
   },
   "toc_section_display": true,
   "toc_window_display": true
  }
 },
 "nbformat": 4,
 "nbformat_minor": 5
}
