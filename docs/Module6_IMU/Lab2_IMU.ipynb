{
 "cells": [
  {
   "cell_type": "markdown",
   "id": "08236ed7",
   "metadata": {},
   "source": [
    "# Lab 2: Inertial Measurement Unit\n",
    "---"
   ]
  },
  {
   "cell_type": "markdown",
   "id": "80c9647f",
   "metadata": {},
   "source": [
    "## Purpose\n",
    "This lab will integrate the on-board IMU with the Turtlebot3 controller to turn the robot 90 degrees left or right.  Do not disable any of the mouse controller functionality in the turtlebot_controller.py code.  The IMU and mouse control functionality should be able to coexist seemlessly."
   ]
  },
  {
   "cell_type": "markdown",
   "id": "4bde6f8a",
   "metadata": {},
   "source": [
    "## Master\n",
    "### Setup:\n",
    "In the `/master_ws/src/ece387_master_sp2X-USERNAME/master` folder, create a **lab2** package which depends on **std_msgs**, **rospy**, **geometry_msgs**, and **turtlebot3_bringup**.\n",
    "\n",
    "### controller.py\n",
    "1. Copy the turtlebot_controller.py file from lab1 into the lab2 package.\n",
    "\n",
    "1. Open the turtlebot_controller.py file from lab2 using the **Sublime** editor.\n",
    "\n",
    "1. Import the squaternion library and Imu message used in ICE6.\n",
    "\n",
    "1. Add the following Class variables within the class above the `__init__()` function:\n",
    "\n",
    "    1. `K_HDG = 0.1 # rotation controller constant`\n",
    "    1. `HDG_TOL = 10 # heading tolerance +/- degrees`\n",
    "    1. `MIN_ANG_Z = 0.5 # limit rad/s values sent to Turtlebot3`\n",
    "    1. `MAX_ANG_Z = 1.5 # limit rad/s values sent to Turtlebot3`\n",
    "    \n",
    "1. Add the following to the `__init__()` function:\n",
    "\n",
    "    1. Instance variable, `self.curr_yaw`, initialized to 0 to store the current orientation of the robot\n",
    "    1. Instance variable, `self.goal_yaw`, initialized to 0 to store the goal orientation of the robot\n",
    "    1. Instance variable, `self.turning`, initialized to `False` to store if the robot is currently turning\n",
    "    1. A subscriber to the IMU topic of interest with a callback to the callback_imu() function\n",
    "    \n",
    "1. Add the `convert_yaw()` function from ICE6.\n",
    "    \n",
    "1. Add the `callback_imu()` function from ICE6, removing print statements and setting the instance variable, `self.curr_yaw`.\n",
    "\n",
    "1. Edit the `callback_controller()` function so it turns the robot 90 degrees in the direction inputed by the user (left or right). Below is some pseudo-code to help you code the controller function \n",
    "\n",
    "> ⚠️ **WARNING:** Pseudo-code is not actual code and cannot be copied and expected to work!"
   ]
  },
  {
   "cell_type": "markdown",
   "id": "b4197489",
   "metadata": {},
   "source": [
    "```python\n",
    "def callback_controller(self, event):\n",
    "    # local variables do not need the self\n",
    "\tyaw_err = 0\n",
    "\tang_z = 0\n",
    "    # not turning, so get user input\n",
    "    if not turning:\n",
    "        read from user and set value to instance variable, self.goal_yaw\n",
    "        input(\"Input l or r to turn 90 deg\")\n",
    "        \n",
    "        # check input and determine goal yaw\n",
    "        if input is equal to \"l\" \n",
    "            set goal yaw to curr yaw plus/minus 90\n",
    "            turning equals True\n",
    "        else if input is equal to \"r\"\n",
    "           \tset goal yaw to curr yaw plus/minus 90\n",
    "            turning equals True\n",
    "        else \n",
    "        \tprint error and tell user valid inputs\n",
    "            \n",
    "        # check bounds\n",
    "        if goal_yaw is less than 0 then add 360\n",
    "        else if goal_yaw is greater than 360 then subtract 360\n",
    "    \n",
    "    # turn until goal is reached\n",
    "    elif turning:\n",
    "        yaw_err = self.goal_yaw - self.curr_yaw\n",
    "        \n",
    "        # determine if robot should turn clockwise or counterclockwise\n",
    "        if yaw_err > 180:\n",
    "            yaw_err = yaw_err - 360\n",
    "        elif yaw_err < -180:\n",
    "            yaw_err = yaw_err + 360\n",
    "            \n",
    "        # proportional controller that turns the robot until goal \n",
    "        # yaw is reached\n",
    "        ang_z = self.K_HDG * yaw_err\n",
    "        \n",
    "        if ang_z < self.MIN: ang_z = self.MIN\t\t# need to add negative test as well!\n",
    "        elif ang_Z > self.MAX: ang_z = self.MAX\t# need to add negative test as well!\n",
    "        \n",
    "        # check goal orientation\n",
    "        if abs(yaw_err) < self.HDG_TOL\n",
    "            turning equals False\n",
    "            ang_z = 0\n",
    "            \n",
    "   # set twist message and publish\n",
    "   self.cmd.linear.x = 0\n",
    "   self.cmd.angular.z = ang_z\n",
    "   publish message\n",
    "```"
   ]
  },
  {
   "cell_type": "markdown",
   "id": "b0e74dde",
   "metadata": {},
   "source": [
    "## Run your nodes\n",
    "1. On the **Master** open a terminal and run **roscore**.\n",
    "1. Open another terminal and enable statistics for **rqt_graph**.\n",
    "1. Run the controller node.\n",
    "1. Open secure shell into the **Robot** and run the **turtlebot3_core** launch file.\n",
    "1. Type \"l\" or \"r\" to turn the robot 90 degrees."
   ]
  },
  {
   "cell_type": "markdown",
   "id": "86f2c301",
   "metadata": {},
   "source": [
    "## Report\n",
    "Complete a short 2-3 page report that utilizes the format and answers the questions within the report template. The report template and an example report can be found within the Team under `Resources/Lab Template`."
   ]
  },
  {
   "cell_type": "markdown",
   "id": "1900a100",
   "metadata": {},
   "source": [
    "## Turn-in Requirements\n",
    "**[25 points]** Demonstration of keyboard control of Turtlebot3 (preferably in person, but can be recorded and posted to Teams under the Lab 2 channel).\n",
    "\n",
    "**[50 points]** Report via Gradescope.\n",
    "\n",
    "**[25 points]** Code: push your code to your repository. Also, include a screen shot of the **turtlebot_controller.py** file at the end of your report."
   ]
  }
 ],
 "metadata": {
  "kernelspec": {
   "display_name": "Python 3",
   "language": "python",
   "name": "python3"
  },
  "language_info": {
   "codemirror_mode": {
    "name": "ipython",
    "version": 3
   },
   "file_extension": ".py",
   "mimetype": "text/x-python",
   "name": "python",
   "nbconvert_exporter": "python",
   "pygments_lexer": "ipython3",
   "version": "3.8.10"
  },
  "toc": {
   "base_numbering": 1,
   "nav_menu": {
    "height": "339px",
    "width": "355px"
   },
   "number_sections": true,
   "sideBar": true,
   "skip_h1_title": true,
   "title_cell": "Table of Contents",
   "title_sidebar": "Contents",
   "toc_cell": false,
   "toc_position": {},
   "toc_section_display": true,
   "toc_window_display": true
  }
 },
 "nbformat": 4,
 "nbformat_minor": 5
}
