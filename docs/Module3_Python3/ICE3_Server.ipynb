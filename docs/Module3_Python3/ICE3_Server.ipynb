{
 "cells": [
  {
   "cell_type": "markdown",
   "metadata": {},
   "source": [
    "# Module 3: Python3 for Robotics\n",
    "## In-Class Exercise 3 - Server\n",
    "---"
   ]
  },
  {
   "cell_type": "markdown",
   "metadata": {},
   "source": [
    "### Implementing the chat server\n",
    "**NOTE**: This Jupyter Notebook will require you to enter Python3 code within code sections. You can type any Python3 code and expand the block if necessary. After typing the code, execute the code block before moving forward.\n",
    "\n",
    "#### Import modules\n",
    "\n",
    "> ⚠️ **Important:** Importing classes may take some time. You will know the code block is still executing as the bracket on the left of the cell will change to a `*` character. Do not move to the next step until the `*` is gone."
   ]
  },
  {
   "cell_type": "code",
   "execution_count": null,
   "metadata": {},
   "outputs": [],
   "source": [
    "# import required modules for ROS and the String message from std_msgs\n",
    "\n"
   ]
  },
  {
   "cell_type": "markdown",
   "metadata": {},
   "source": [
    "#### Server Class\n",
    "1. Create a server class with a dictionary used to map messages to responses (one for each message from the client).\n",
    "2. Initialize the class with the following:\n",
    "    1. an instance variable to store the String message\n",
    "    2. a subscriber to the client topic which receives String messages and calls a callback called received.\n",
    "    3. a publisher to the server topic which sends String messages \n",
    "    4. nicely handle shutdown\n",
    "3. Create the callback received class method that is called every time a message is received from the client.\n",
    "5. Handle shutdown."
   ]
  },
  {
   "cell_type": "code",
   "execution_count": null,
   "metadata": {},
   "outputs": [],
   "source": [
    "class Server:\n",
    "    # class dictionary storing server responses\n",
    "    MESSAGE = \n",
    "    \n",
    "    def __init__(self):\n",
    "        # 2.A\n",
    "\n",
    "        # 2.B\n",
    "        \n",
    "        # 2.C\n",
    "        \n",
    "        # 2.D nicely handle shutdown\n",
    "        self.ctrl_c = False\n",
    "        rospy.on_shutdown(self.shutdownhook)\n",
    "\n",
    "    def callback_received(self, msg):\n",
    "        # print the message from the client\n",
    "        \n",
    "        # print the response that will be sent to the client\n",
    "        \n",
    "        # publish the response\n",
    "    \n",
    "    # handle shutdown\n",
    "    def shutdownhook(self):\n",
    "        print(\"Shutting down the server\")\n",
    "        self.ctrl_c = True"
   ]
  },
  {
   "cell_type": "markdown",
   "metadata": {},
   "source": [
    "#### Main\n",
    "The main function calls initializes our node, creates an instance of the server class, then runs forever."
   ]
  },
  {
   "cell_type": "code",
   "execution_count": null,
   "metadata": {},
   "outputs": [],
   "source": [
    "def main():\n",
    "    # initialize node\n",
    "    \n",
    "    # create an instance of the server class\n",
    "    \n",
    "    # run forever\n",
    "    rospy.spin()"
   ]
  },
  {
   "cell_type": "markdown",
   "metadata": {},
   "source": [
    "#### Run the program"
   ]
  },
  {
   "cell_type": "code",
   "execution_count": null,
   "metadata": {},
   "outputs": [],
   "source": [
    "main()"
   ]
  },
  {
   "cell_type": "markdown",
   "metadata": {},
   "source": [
    "At this point, the server is waiting for the client to send a message. Browse back to your client and type a message! You should see that message show up above."
   ]
  }
 ],
 "metadata": {
  "kernelspec": {
   "display_name": "Python 3",
   "language": "python",
   "name": "python3"
  },
  "language_info": {
   "codemirror_mode": {
    "name": "ipython",
    "version": 3
   },
   "file_extension": ".py",
   "mimetype": "text/x-python",
   "name": "python",
   "nbconvert_exporter": "python",
   "pygments_lexer": "ipython3",
   "version": "3.8.10"
  }
 },
 "nbformat": 4,
 "nbformat_minor": 5
}
