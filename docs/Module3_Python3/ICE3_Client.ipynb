{
 "cells": [
  {
   "cell_type": "markdown",
   "metadata": {},
   "source": [
    "# Module 3: Python3 for Robotics\n",
    "## In-Class Exercise 3 - Client\n",
    "---\n",
    "### A note on this document\n",
    "This document is known as a Jupyter Notebook; it is used in academia and industry to allow text and executable code to coexist in a very easy to read format. Blocks can contain text or code, and for blocks containing code, press `Shift + Enter` to run the code. Earlier blocks of code need to be run for the later blocks of code to work."
   ]
  },
  {
   "cell_type": "markdown",
   "metadata": {},
   "source": [
    "### Purpose\n",
    "This Jupyter Notebook will allow you to practice some of the techniques you have learned over the last few modules. You will develop an advanced chat client and server (similar to ICE1) enabling a client to send a message and a server to respond accordingly."
   ]
  },
  {
   "cell_type": "markdown",
   "metadata": {},
   "source": [
    "### Initialize ROS:\n",
    "The first step when utilizing  ROS is to initialize *roscore*. There are two methods to accomplish this: first, by explicitly running *roscore* and second, by running a launch file (which will initialize *roscore* if it is not already running). During the first portion of this course we will explicitly run *roscore* and then take advantage of launch files later in the course.\n",
    "\n",
    "Copy the following code and run it in a new terminal (use the shortcut `ctrl+alt+t` to open a new terminal window or select an open terminal and hit `ctrl+shift+t` to open a new terminal tab):\n",
    "\n",
    "`roscore`"
   ]
  },
  {
   "cell_type": "markdown",
   "metadata": {},
   "source": [
    "### Implementing the chat client\n",
    "> 📝️ **Note:** This Jupyter Notebook will require you to enter Python3 code within code sections. You can type any Python3 code and expand the block if necessary. After typing the code, execute the code block before moving forward.\n",
    "\n",
    "#### Import modules\n",
    "\n",
    "> ⚠️ **Important:** Importing classes may take some time. You will know the code block is still executing as the bracket on the left of the cell will change to a `*` character. Do not move to the next step until the `*` is gone."
   ]
  },
  {
   "cell_type": "code",
   "execution_count": null,
   "metadata": {},
   "outputs": [],
   "source": [
    "# import required modules for ROS and the String message from std_msgs\n",
    "\n"
   ]
  },
  {
   "cell_type": "markdown",
   "metadata": {},
   "source": [
    "#### Client Class\n",
    "1. Create a Client class with a dictionary used to map numbers to messages.\n",
    "2. Initialize the class with the following:\n",
    "    1. an instance variable to store the String message\n",
    "    2. a publisher that publishes String messages on the client topic\n",
    "    3. a subscriber to the server topic which receives String messages and calls a callback when messages are sent.\n",
    "    4. a timer that runs every second and calls a class method\n",
    "    5. nicely handle shutdown\n",
    "3. Create the callback input class method that is ran every second and has the user pick a message to send.\n",
    "4. Create the callback received class method that is called every time a message is received from the server.\n",
    "5. Handle shutdown."
   ]
  },
  {
   "cell_type": "code",
   "execution_count": null,
   "metadata": {},
   "outputs": [],
   "source": [
    "class Client:\n",
    "    MESSAGE = {1: \"Hello!\", 2: \"How are you?\", 3: \"Where are you from?\",\n",
    "               4: \"What are you doing today?\"}\n",
    "    \n",
    "    def __init__(self):\n",
    "        # 2.A\n",
    "\n",
    "        # 2.B\n",
    "        \n",
    "        # 2.C\n",
    "        \n",
    "        # 2.D\n",
    "        \n",
    "        # 2.E nicely handle shutdown\n",
    "        self.ctrl_c = False\n",
    "        rospy.on_shutdown(self.shutdownhook)\n",
    "\n",
    "    def callback_input(self, event):\n",
    "        valid = False\n",
    "        while not valid and not self.ctrl_c:\n",
    "            # get input from user (you must inform them their options)\n",
    "            \n",
    "            try:\n",
    "                # convert to int, if not number throw ValueError\n",
    "                val = int(chat_str)\n",
    "                # check if valid number, if valid then access\n",
    "                # that entry in the dictionary, publish the message\n",
    "                # and set valid to True; if not valid, print error\n",
    "                # message to user (make this error message useful)\n",
    "                \n",
    "                \n",
    "                \n",
    "                \n",
    "                \n",
    "            except ValueError:\n",
    "                # print error message to user (make \n",
    "                # this error message useful)\n",
    "                \n",
    "                \n",
    "    def callback_received(self, msg):\n",
    "        # print message sent to the server\n",
    "        \n",
    "        # print the response from the server\n",
    "    \n",
    "    # handle shutdown\n",
    "    def shutdownhook(self):\n",
    "        print(\"Shutting down the client\")\n",
    "        self.ctrl_c = True"
   ]
  },
  {
   "cell_type": "markdown",
   "metadata": {},
   "source": [
    "#### Main\n",
    "The main function calls initializes our node, creates an instance of the client class, then runs forever."
   ]
  },
  {
   "cell_type": "code",
   "execution_count": null,
   "metadata": {},
   "outputs": [],
   "source": [
    "def main():\n",
    "    # initialize node\n",
    "    \n",
    "    # create an instance of the client class\n",
    "    \n",
    "    # run forever\n",
    "    rospy.spin()"
   ]
  },
  {
   "cell_type": "markdown",
   "metadata": {},
   "source": [
    "#### Run the program"
   ]
  },
  {
   "cell_type": "code",
   "execution_count": null,
   "metadata": {},
   "outputs": [],
   "source": [
    "main()"
   ]
  },
  {
   "cell_type": "markdown",
   "metadata": {},
   "source": [
    "#### Create the server\n",
    "At this point the client is waiting for user input. Don't start typing yet, though! We need to implement and run our server. Open the [ICE3_Server](ICE3_Server.ipynb). notebook and follow the instructions."
   ]
  },
  {
   "cell_type": "markdown",
   "metadata": {},
   "source": [
    "### ROS commands\n",
    "Open the [ICE3_ROS](ICE3_ROS.ipynb) notebook and follow the instructions."
   ]
  }
 ],
 "metadata": {
  "kernelspec": {
   "display_name": "Python 3",
   "language": "python",
   "name": "python3"
  },
  "language_info": {
   "codemirror_mode": {
    "name": "ipython",
    "version": 3
   },
   "file_extension": ".py",
   "mimetype": "text/x-python",
   "name": "python",
   "nbconvert_exporter": "python",
   "pygments_lexer": "ipython3",
   "version": "3.8.10"
  },
  "toc": {
   "base_numbering": 1,
   "nav_menu": {},
   "number_sections": true,
   "sideBar": true,
   "skip_h1_title": true,
   "title_cell": "Table of Contents",
   "title_sidebar": "Contents",
   "toc_cell": false,
   "toc_position": {},
   "toc_section_display": true,
   "toc_window_display": true
  }
 },
 "nbformat": 4,
 "nbformat_minor": 5
}
