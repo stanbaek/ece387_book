{
 "cells": [
  {
   "cell_type": "markdown",
   "id": "bb1f7416",
   "metadata": {},
   "source": [
    "# Module 1: Robotics Operating System (ROS)\n",
    "## In-Class Exercise 1 - ROS\n",
    "Below you will see the ROS commands you will use throughout this course to investigate your ROS system and write your lab reports. The \"!\" character in the front allows us to run bash commands from Jupyter and would **NOT** be used in the command line.\n",
    "\n",
    "With the talker and listener nodes running execute the below commands."
   ]
  },
  {
   "cell_type": "markdown",
   "id": "f24d9701",
   "metadata": {},
   "source": [
    "List all running nodes:"
   ]
  },
  {
   "cell_type": "code",
   "execution_count": null,
   "id": "8cbbf795",
   "metadata": {},
   "outputs": [],
   "source": [
    "!rosnode list"
   ]
  },
  {
   "cell_type": "markdown",
   "id": "52047d08",
   "metadata": {},
   "source": [
    "You should see the listener and talker nodes. The */rosout* node is created when running `roscore` and facilitates communication in the network. You can ignore this node in your lab reports.\n",
    "\n",
    "Get more information about the */listener* node:"
   ]
  },
  {
   "cell_type": "code",
   "execution_count": null,
   "id": "1f122690",
   "metadata": {},
   "outputs": [],
   "source": [
    "!rosnode info /listener"
   ]
  },
  {
   "cell_type": "markdown",
   "id": "4092a8a3",
   "metadata": {},
   "source": [
    "You can see what topics the node is publishing and subscribing to. It publishes to the ROS log file (for debugging) and subscribes to the **/chat** topic.\n",
    "\n",
    "List the active topics:"
   ]
  },
  {
   "cell_type": "code",
   "execution_count": null,
   "id": "d39d2e4b",
   "metadata": {},
   "outputs": [],
   "source": [
    "!rostopic list"
   ]
  },
  {
   "cell_type": "markdown",
   "id": "60c9f34c",
   "metadata": {},
   "source": [
    "The first topic is the one we created. The last two are created by `roscore` and can be ignored.\n",
    "\n",
    "Show information about the **/chat** topic such as what type of messages are sent over the topic and publishing and subscribing nodes.\n",
    "\n"
   ]
  },
  {
   "cell_type": "code",
   "execution_count": null,
   "id": "db5f9bf6",
   "metadata": {},
   "outputs": [],
   "source": [
    "!rostopic info /chat"
   ]
  },
  {
   "cell_type": "markdown",
   "id": "a5f09263",
   "metadata": {},
   "source": [
    "As expected, the *talker* node is publishing to the **/chat** topic while the *listener* node subscribes.\n",
    "\n",
    "Display running nodes and communication between them:"
   ]
  },
  {
   "cell_type": "code",
   "execution_count": null,
   "id": "51edc92a",
   "metadata": {},
   "outputs": [],
   "source": [
    "!rqt_graph"
   ]
  },
  {
   "cell_type": "markdown",
   "id": "1a608de5",
   "metadata": {},
   "source": [
    "Close the rqt_graph."
   ]
  },
  {
   "cell_type": "markdown",
   "id": "1e66fd6c",
   "metadata": {},
   "source": [
    "Display information about the message that is sent over the **/chat** topic."
   ]
  },
  {
   "cell_type": "code",
   "execution_count": null,
   "id": "0f1f16e0",
   "metadata": {},
   "outputs": [],
   "source": [
    "!rostopic type /chat | rosmsg show"
   ]
  },
  {
   "cell_type": "markdown",
   "id": "5b050c74",
   "metadata": {},
   "source": [
    "The output of the command is the same as the information we saw from the ROS documentation. Again, to access the message we have to use the `data` attribute."
   ]
  },
  {
   "cell_type": "markdown",
   "id": "ee8b6388",
   "metadata": {},
   "source": [
    "Display messages sent over the **/chat** topic:"
   ]
  },
  {
   "cell_type": "code",
   "execution_count": null,
   "id": "11638017",
   "metadata": {},
   "outputs": [],
   "source": [
    "!rostopic echo /chat"
   ]
  },
  {
   "cell_type": "markdown",
   "id": "6d0b6b62",
   "metadata": {},
   "source": [
    "In the ICE1_Talker notebook send a message to the listener. You should see that message show up both here and at the listener. This echo tool is useful to ensure your nodes are sending the messages as expected.\n",
    "\n",
    "### Checkpoint\n",
    "Once complete, get checked off by an instructor showing the output of each of the above."
   ]
  },
  {
   "cell_type": "markdown",
   "id": "1f32c1e3",
   "metadata": {},
   "source": [
    "## Cleanup\n",
    "In each of the notebooks reset the Jupyter kernel and clear output (at the top menu bar select \"Kernel\" and \"Restart & Clear Output\"). Close each notebook. Shutdown the notebook server by typing `ctrl+c` within the terminal you ran `jupyter-notebook` in. Select 'y'."
   ]
  }
 ],
 "metadata": {
  "kernelspec": {
   "display_name": "Python 3",
   "language": "python",
   "name": "python3"
  },
  "language_info": {
   "codemirror_mode": {
    "name": "ipython",
    "version": 3
   },
   "file_extension": ".py",
   "mimetype": "text/x-python",
   "name": "python",
   "nbconvert_exporter": "python",
   "pygments_lexer": "ipython3",
   "version": "3.8.10"
  },
  "toc": {
   "base_numbering": 1,
   "nav_menu": {},
   "number_sections": true,
   "sideBar": true,
   "skip_h1_title": false,
   "title_cell": "Table of Contents",
   "title_sidebar": "Contents",
   "toc_cell": false,
   "toc_position": {},
   "toc_section_display": true,
   "toc_window_display": false
  }
 },
 "nbformat": 4,
 "nbformat_minor": 5
}
