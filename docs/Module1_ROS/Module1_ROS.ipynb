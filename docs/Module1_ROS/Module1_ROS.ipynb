{
 "cells": [
  {
   "cell_type": "markdown",
   "id": "68bddb2d",
   "metadata": {},
   "source": [
    "# Module 1: Robotics Operating System (ROS)\n",
    "---\n",
    "### A note on this document\n",
    "This document is known as a Jupyter Notebook; it is used in academia and industry to allow text and executable code to coexist in a very easy to read format. Blocks can contain text or code, and for blocks containing code, press `Shift + Enter` to run the code. Earlier blocks of code need to be run for the later blocks of code to work."
   ]
  },
  {
   "cell_type": "markdown",
   "id": "016396bb",
   "metadata": {},
   "source": [
    "## Purpose\n",
    "This Jupyter Notebook accompanies the introduction to ROS notetaker used in class. We will apply the knowledge you learned by interacting with a simulated TurlteBot3 Burger."
   ]
  },
  {
   "cell_type": "markdown",
   "id": "0635785b",
   "metadata": {},
   "source": [
    "## Setting up the terminal for ROS\n",
    "1. Open a new Linux terminal by pressing:\n",
    "\n",
    "    `ctrl+alt+t`\n",
    "    <br>\n",
    "1. Change to your root directory:\n",
    "\n",
    "    `cd`\n",
    "\n",
    "    When the `cd` command has no arguments, it changes to the user's home directory. The command `cd ..` will move up one level.\n",
    "    <br>\n",
    "1. Print the working directory:\n",
    "\n",
    "    `pwd`\n",
    "    <br>\n",
    "1. List the contents of the current directory:\n",
    "\n",
    "    `ls`\n",
    "    <br>\n",
    "1. Change directory to your master_ws folder:\n",
    "\n",
    "    `cd master_ws`\n",
    "    <br>\n",
    "1. List the contents of the current directory:\n",
    "\n",
    "    `ls`\n",
    "    <br>\n",
    "1. Change directory to your devel folder:\n",
    "\n",
    "    `cd devel`\n",
    "    <br>\n",
    "1. You should notice a setup.bash file in the devel folder. Source this file allowing you to call your ROS packages:\n",
    "\n",
    "    `source setup.bash`\n",
    "    <br> \n",
    "1. Open your .bashrc file (a script that is ran every time a new terminal instance is opened):\n",
    "\n",
    "    `nano ~/.bashrc`\n",
    "\n",
    "    This command is ran with sudo priveleges as the .bashrc is a system level file. The '~' character indicates the .bashrc file is in the user's home directory and allows us to access it from anywhere in the file system (would be the same as using the absolute path `nano /dfec/home/.bashrc` ).\n",
    "\n",
    "1. Scroll to the bottom of the file. You should see a few lines of code such as the following:\n",
    "\n",
    "    ```\n",
    "        source /opt/ros/noetic/setup.bash\n",
    "        source ~/master_ws/devel/setup.bash\n",
    "        export ROS_PACKAGE_PATH=~/master_ws/src:/opt/ros/noetic/share\n",
    "        export ROS_MASTER_URI=http://master:11311\n",
    "        export EDITOR='nano -w'\n",
    "    ```\n",
    "    <br>\n",
    "    The first three lines set up the ROS environment allowing access to built-in packages and packages within your master workspace. Line 4 establishes which system hosts the ROS network. You can replace master with your robot, and the entire ROS network would run on your robot.\n",
    "    Hit ctrl+s to save, then ctrl+x to exit.\n",
    "    <br>\n",
    "    You need to source (execute) the .bashrc file any time the file is changed (the .bashrc file is ran every time a new terminal is opened, but since we haven't opened a new terminal yet, we have to run it manually).\n",
    "    <br>\n",
    "    <br>\n",
    "1. Execute the .bashrc file\n",
    "\n",
    "    `source ~/.bashrc`"
   ]
  },
  {
   "cell_type": "markdown",
   "id": "6622da9a",
   "metadata": {},
   "source": [
    "## Running the TurtleBot3 simulation\n",
    "The best way to learn about ROS is through implementation, however, let's start off by playing around with a virtual TurtleBot3! The TurtleBot3 is a tool we will utilize throughout this course to apply and integrate robotics systems. Ultimately you will create a complex embedded robotics system to perform a specific dedicated task, such as navigating the halls of DFEC. But let's see if we can get the robot to drive around first.\n",
    "\n",
    "1. In a terminal (**Pro tip:** ctrl+alt+t opens a new terminal window, while ctrl+shift+t opens a new terminal tab in an existing window) and initialize the ROS network:\n",
    "\n",
    "    `roscore`\n",
    "\n",
    "1. That terminal is now occupied. Open a new terminal tab/window and launch the TurtleBot3 gazebo launch file (A launch file is a way to run one or more nodes at once, we will learn about launch files later):\n",
    "\n",
    "    `roslaunch turtlebot3_gazebo turtlebot3_world.launch`\n",
    "\n",
    "> ⌨️ **Syntax:** `roslaunch <package> <launchfile>`\n",
    "\n",
    " \n",
    "3. Open another terminal tab/window and launch the following:\n",
    "\n",
    "    `roslaunch turtlebot3_gazebo turtlebot3_gazebo_rviz.launch`\n",
    "\n",
    "The launch files will run the nodes necessary to simulate our robot and opens two windows: Gazebo and rviz. Gazebo is a simulation tool that provides physics for our robot and enables the testing of algorithms prior to real-world implementation. You should see a TurtleBot3 sitting at (-2.0, -0.5) facing the positive x direction surrounded by a maze. Using the mouse, left-click and holding will pan, holding the scroll wheel will change the orientation of the camera, and scrolling will zoom in and out.\n",
    "\n",
    "The second window is rviz, a tool that visualizes topics interacting in our system. You should see a number of red dots outlining the location of the obstacles in our simulation. These are objects detected by our LIDAR which is communicating over a scan topic. Using the mouse, left-click will change the orientation of the camera, holding the scroll wheel will pan, and scrolling will zoom in and out (would be nice if they were the same).\n",
    "\n",
    "Don't worry! We will learn more about both of these tools at a later time.\n",
    "\n",
    "Let's go ahead and take a look at what nodes and topics currently running in our system. \n",
    "\n",
    "The \"!\" character in front of the following commands allows us to run bash commands from the Jupyter NB and would **NOT** be used in the command line."
   ]
  },
  {
   "cell_type": "code",
   "execution_count": null,
   "id": "d7899dd1",
   "metadata": {},
   "outputs": [],
   "source": [
    "!rosnode list"
   ]
  },
  {
   "cell_type": "markdown",
   "id": "3dabb395",
   "metadata": {},
   "source": [
    "There are five nodes running, the first two enable the Gazebo simulation, the third allows for the visualization of the simulated robot, the fourth is created every time *roscore* is ran and helps with communication in our network, and the last enables rviz.\n",
    "\n",
    "Not too exciting yet, so lets see what topics are active."
   ]
  },
  {
   "cell_type": "code",
   "execution_count": null,
   "id": "dd905f91",
   "metadata": {},
   "outputs": [],
   "source": [
    "!rostopic list"
   ]
  },
  {
   "cell_type": "markdown",
   "id": "c81b1024",
   "metadata": {},
   "source": [
    "There are a lot of topics that are utilized to simulate our robot. Our real-world robot will eventually have most of these, such as **/cmd_vel**, **/imu**, and **/scan**. These are topics that allow us to communicate with some of the simulated hardware, such as the orientation sensor (/imu), LIDAR (/scan), and driving the robot (/cmd_vel). The rest of the topics enable visualization and movement within the simulation and can be ignored for now.\n",
    "\n",
    "Another useful tool for visualizing nodes and topics is called *rqt_graph*:"
   ]
  },
  {
   "cell_type": "code",
   "execution_count": null,
   "id": "11534183",
   "metadata": {},
   "outputs": [],
   "source": [
    "!rqt_graph"
   ]
  },
  {
   "cell_type": "markdown",
   "id": "c2ac239e",
   "metadata": {},
   "source": [
    "All that is going on right now is Gazebo is publishing the position and scan data which rviz uses to visualize the robot. **Close your rqt_graph** and let's add another node to make things a bit more interesting. \n",
    "\n",
    "Earlier we saw the topic **/cmd_vel**. This is a topic used to send *Twist* messages to a robot. A *Twist* message includes linear and angular x, y, z values to move a robot in a 3-dimensional space (google `ROS twist message` for more information). Our robot only drives in 2-dimensions and the wheels can only move forward and backward, so we will only use the linear x (forward and backward) and angular z (turning) attributes of the *Twist* message. To drive our simulated robot, we need a node that can publish *Twist* messages to the **/cmd_vel** topic. Luckily, there is a pre-built node called Teleop_Twist_Keyboard that sends *Twist* messages using a keyboard!\n",
    "\n",
    "Open a new terminal tab (select the terminal and press ctrl+shift+t) and run the following (**Pro tip**: in a Linux terminal if you type the first couple letters of a command and then hit tab it will autocomplete the command for you):\n",
    "\n",
    "`rosrun teleop_twist_keyboard teleop_twist_keyboard.py`\n",
    "\n",
    "> ⌨️ **Syntax:** `rosrun <package> <executable>`\n",
    "\n",
    "To drive the robot use the 'x' key to decrease linear x speed to about .25 m/s and use the 'c' key to decrease angular z speed to about .5 rad/s. Now follow the directions to utilize the keyboard to drive the robot! You should see the robot move in the simulation.\n",
    "\n",
    "Let's take a look at our rqt_graph to see if anything has changed."
   ]
  },
  {
   "cell_type": "code",
   "execution_count": null,
   "id": "e6345521",
   "metadata": {},
   "outputs": [],
   "source": [
    "!rqt_graph"
   ]
  },
  {
   "cell_type": "markdown",
   "id": "29993b3a",
   "metadata": {},
   "source": [
    "You should now see the teleop_twist_keyboard node which sends messages over **/cmd_vel** topic to Gazebo. **Close the rqt_graph window**. Let's run through a number of commands that will provide you more information about your ROS network. You will use these throughout the course to determine what is going on in your ROS network."
   ]
  },
  {
   "cell_type": "markdown",
   "id": "0d1ce34a",
   "metadata": {},
   "source": [
    "## Common ROS commands"
   ]
  },
  {
   "cell_type": "markdown",
   "id": "fdb77480",
   "metadata": {},
   "source": [
    "The `rosnode` command allows us to interact with nodes. Typing any ROS command followd by `--help` will provide information about that command:"
   ]
  },
  {
   "cell_type": "code",
   "execution_count": null,
   "id": "47d697c4",
   "metadata": {},
   "outputs": [],
   "source": [
    "!rosnode --help"
   ]
  },
  {
   "cell_type": "markdown",
   "id": "0d0a913b",
   "metadata": {},
   "source": [
    "Let's get some information about our new node, teleop_twist_keyboard:"
   ]
  },
  {
   "cell_type": "code",
   "execution_count": null,
   "id": "d531c960",
   "metadata": {},
   "outputs": [],
   "source": [
    "!rosnode info /teleop_twist_keyboard"
   ]
  },
  {
   "cell_type": "markdown",
   "id": "add58a69",
   "metadata": {},
   "source": [
    "The output of the command lists the topics the node is publishing and subscribing to (here is where we can see it publishes on **/cmd_vel**)."
   ]
  },
  {
   "cell_type": "markdown",
   "id": "eb7a0791",
   "metadata": {},
   "source": [
    "The `rostopic` command interacts with topics."
   ]
  },
  {
   "cell_type": "code",
   "execution_count": null,
   "id": "c8cf0562",
   "metadata": {},
   "outputs": [],
   "source": [
    "!rostopic --help"
   ]
  },
  {
   "cell_type": "markdown",
   "id": "afe8eb6d",
   "metadata": {},
   "source": [
    "Some of the common rostopic commands we will use in this course are `echo`, `hz`, `info`,  `type`, and `list`"
   ]
  },
  {
   "cell_type": "code",
   "execution_count": null,
   "id": "5b9a836d",
   "metadata": {},
   "outputs": [],
   "source": [
    "!rostopic list"
   ]
  },
  {
   "cell_type": "markdown",
   "id": "f7ff5a56",
   "metadata": {},
   "source": [
    "Let's get some information about the **/cmd_vel** topic."
   ]
  },
  {
   "cell_type": "code",
   "execution_count": null,
   "id": "8adc707e",
   "metadata": {},
   "outputs": [],
   "source": [
    "!rostopic info /cmd_vel"
   ]
  },
  {
   "cell_type": "markdown",
   "id": "b30d2d1e",
   "metadata": {},
   "source": [
    "From the output we can see what nodes are publishing and subscribing to the **/cmd_vel** topic.\n",
    "\n",
    "Echoing the topic will allow us to see what messages are sent over the topic. After running the below command, browse back to your teleop_twist_keyboard node and drive the robot. You should see the twist messages sent to Gazebo."
   ]
  },
  {
   "cell_type": "code",
   "execution_count": null,
   "id": "89d87655",
   "metadata": {},
   "outputs": [],
   "source": [
    "!rostopic echo /cmd_vel"
   ]
  },
  {
   "cell_type": "markdown",
   "id": "3fabf7e4",
   "metadata": {},
   "source": [
    "> 📝️ **Note:** When moving forward and backward ('i' and ',' keys) only a linear x value is sent, when turning left or right ('j' and 'l' keys) only an angular z value is sent, and when arcing ('u', 'o', 'm', and '.' keys) both a linear x and angular z value are sent.\n",
    "\n",
    "> 📝️ **Note:** The previous command still has an `*` character to the left. This means this command is waiting for inputs and will block all future commands. To kill the command and restart the kernel in the Jupyter Notebook at the top menu bar select \"Kernel\" and \"Restart & Clear Output\". This will allow future commands to run.\n",
    "\n",
    "To learn more about the messages sent over the **/cmd_vel** topic we can use the `type` command and the `rosmsg` tool."
   ]
  },
  {
   "cell_type": "code",
   "execution_count": null,
   "id": "9f7a7a41",
   "metadata": {},
   "outputs": [],
   "source": [
    "!rostopic type /cmd_vel"
   ]
  },
  {
   "cell_type": "code",
   "execution_count": null,
   "id": "8b30804f",
   "metadata": {},
   "outputs": [],
   "source": [
    "!rosmsg show geometry_msgs/Twist"
   ]
  },
  {
   "cell_type": "markdown",
   "id": "90eee7e3",
   "metadata": {},
   "source": [
    "Or in one combined command:"
   ]
  },
  {
   "cell_type": "code",
   "execution_count": null,
   "id": "64f4a96b",
   "metadata": {},
   "outputs": [],
   "source": [
    "!rostopic type /cmd_vel | rosmsg show"
   ]
  },
  {
   "cell_type": "markdown",
   "id": "2b1b4a54",
   "metadata": {},
   "source": [
    "## Cleanup\n",
    "Before moving on to the in-class exercise, close all running nodes. In the Jupyter Notebook at the top menu bar select \"Kernel\" and \"Restart & Clear Output\". In each terminal window, close the node by typing `ctrl+c`. Ensure roscore is terminated before moving on to the ICE."
   ]
  }
 ],
 "metadata": {
  "kernelspec": {
   "display_name": "Python 3",
   "language": "python",
   "name": "python3"
  },
  "language_info": {
   "codemirror_mode": {
    "name": "ipython",
    "version": 3
   },
   "file_extension": ".py",
   "mimetype": "text/x-python",
   "name": "python",
   "nbconvert_exporter": "python",
   "pygments_lexer": "ipython3",
   "version": "3.8.10"
  },
  "toc": {
   "base_numbering": 1,
   "nav_menu": {},
   "number_sections": true,
   "sideBar": true,
   "skip_h1_title": false,
   "title_cell": "Table of Contents",
   "title_sidebar": "Contents",
   "toc_cell": false,
   "toc_position": {},
   "toc_section_display": true,
   "toc_window_display": false
  }
 },
 "nbformat": 4,
 "nbformat_minor": 5
}
