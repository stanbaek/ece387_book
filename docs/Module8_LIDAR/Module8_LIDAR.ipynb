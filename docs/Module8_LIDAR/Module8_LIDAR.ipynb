{
 "cells": [
  {
   "cell_type": "markdown",
   "id": "e677e6f8",
   "metadata": {},
   "source": [
    "# Module 8: LIDAR\n",
    "---"
   ]
  },
  {
   "cell_type": "markdown",
   "id": "09991f25",
   "metadata": {},
   "source": [
    "## Purpose\n",
    "In this lesson we will enable the robot to avoid obstacles. Many sensors provide obstacle avoidance capabilities: camera, sonar, infrared, LIDAR, etc. All of these will work to enable the robot to avoid obstacles, but we will use LIDAR as it is an affordable, but very capable solution."
   ]
  },
  {
   "cell_type": "markdown",
   "id": "4b5b6d67",
   "metadata": {},
   "source": [
    "## LIDAR\n",
    "[Robotis's LDS-01](https://www.robotis.us/360-laser-distance-sensor-lds-01-lidar/) is a 360 deg Laser Distance Sensor (LDS). It is based on laser triangulation ranging principles and uses high-speed vision acquisition and processing hardware. It measures distance data in more than 1800 times per second. It has a detection range between .12 m and 3.5 m and an angular resolution of 1 degree. The distance accuracy is .015 m between .12 m and .499 m then +/- 5% up to 3.5 m.\n",
    "\n",
    "![logo](Figures/rplidar.png)\n",
    "\n",
    "### Videos:\n",
    "[Airborne LiDAR](https://www.youtube.com/watch?v=EYbhNSUnIdU)\n",
    "\n",
    "[Turtlebot3 LDS](https://www.youtube.com/watch?v=9oic8aT3wIc&t)"
   ]
  },
  {
   "cell_type": "markdown",
   "id": "c86f954c",
   "metadata": {},
   "source": [
    "## Quick Check on LIDAR Variant\n",
    "The robots for our class have two different LIDAR variants.  The older bots have the LDS-01 which is exactly what is pictured above.  The newer bots likely have the LDS-02 (pictured below).  If you have the LDS-02, you will need to go into the .bashrc file and change the last line in the file to indicate the proper variant.  \n",
    "\n",
    "![logo](Figures/LDS02.jpeg)\n",
    "\n",
    "```bash\n",
    "sudo nano ~/.bashrc\n",
    "```\n",
    "You are looking for a line that looks like this:\n",
    "\n",
    "```bash\n",
    "export LDS_MODEL=LDS-01 # replace with LDS-02 if using new LIDAR\n",
    "```\n",
    "You will need to change that line to LDS-02.  **You will need to accomplish this on both the master and the robot**\n",
    "\n",
    "## Setup\n",
    "The [hls_lfcd_lds_driver](http://wiki.ros.org/hls_lfcd_lds_driver) package enables data to be received from the LIDAR over the **/scan** topic. The package is pre-installed on your **Robot**, but as always, trust, but verify. Open a new secure shell into your **Robot** and run the following:\n",
    "\n",
    "```bash\n",
    "rospack find hls_lfcd_lds_driver\n",
    "```\n",
    "\n",
    "If installed, the command should return the absolute path to the package, similar to:\n",
    "\n",
    "```bash\n",
    "/opt/ros/noetic/share/hls_lfcd_lds_driver\n",
    "```\n",
    "\n",
    "If the command instead returns an error, then you need to install the package.\n",
    "\n",
    "```bash\n",
    "sudo apt install ros-noetic-hls-lfcd-lds-driver\n",
    "```"
   ]
  },
  {
   "cell_type": "markdown",
   "id": "e16ec5f5",
   "metadata": {},
   "source": [
    "## Testing LIDAR\n",
    "Open a new terminal on the master and run roscore and setup for statistics:\n",
    "\n",
    "```bash\n",
    "roscore\n",
    "rosparam set enable_statistics true\n",
    "```\n",
    "\n",
    "Select the terminal with the secure shell connection to your **Robot** and open the `turtlebot3_lidar.launch` file:\n",
    "\n",
    "```\n",
    "rosed turtlebot3_bringup turtlebot3_lidar.launch\n",
    "```\n",
    "\n",
    "We can see that this launch file is pretty simple and only launches the **hls_laser_publisher** node.\n",
    "\n",
    "Run the launch file on the **Robot**:\n",
    "\n",
    "```bash\n",
    "roslaunch turtlebot3_bringup turtlebot3_lidar.launch\n",
    "```\n",
    "\n",
    "In a new terminal on the **Master**, we can visualize the Turtlebot3 and LIDAR data using another launch file from the Turtlebot3:\n",
    "\n",
    "```bash\n",
    "roslaunch turtlebot3_bringup turtlebot3_model.launch\n",
    "```\n",
    "\n",
    "This should open an RVIZ window where we can visualize ROS components of our system. In the \"Displays\" menu on the left you should see two submenus of interest: \"LaserScan\" and \"RobotModel\". These allow us to depict the Turtlebot3 and LIDAR data.\n",
    "\n",
    "You should see red dots fill the **rviz** map where obstacles exist. \n",
    "\n",
    "Investigate what data the **hls_laser_publisher** is sending. Type the following and observe the command output:\n",
    "\n",
    "```bash\n",
    "rostopic list\n",
    "rostopic info /scan\n",
    "rostopic type /scan\n",
    "rostopic type /scan | rosmsg show\n",
    "rostopic echo /scan\n",
    "```\n",
    "\n",
    "At this point you can kill all nodes on the master, but keep the **turtlebot3_lidar** launch file running on the **Robot**."
   ]
  },
  {
   "cell_type": "markdown",
   "id": "376dd1dd",
   "metadata": {},
   "source": [
    "## LIDAR Subscriber\n",
    "In this section we will build a subscriber that will print the range data from the Turtlebot3 LIDAR.\n",
    "\n",
    "1. Browse to a terminal on the **Master** and create an `ice8` package:\n",
    "    ```bash\n",
    "    cd ~/master_ws/src/ece387_master_sp2X-USERNAME/master\n",
    "    catkin_create_pkg ice8 rospy sensor_msgs geometry_msgs turtlebot3_bringup\n",
    "    cd ~/master_ws\n",
    "    catkin_make\n",
    "    source ~/.bashrc\n",
    "    ```\n",
    "\n",
    "1. Create an lidar node:\n",
    "\n",
    "    ```bash\n",
    "    roscd ice8/src\n",
    "    touch lidar_sub.py\n",
    "    ```\n",
    "    \n",
    "1. Copy and complete the below code using the GUI editor tool, **Atom**. Browse to the subscriber you just created and double-click. This will open the file in **Atom** (if it is open in any other editor, stop, raise your hand, and get help from an instructor)\n",
    "> 💡️ **Tip:** Look for the **\"TODO\"** tag which indicates where you should insert your own code.\n",
    "\n",
    "The code should obtain the list of range data from the LIDAR launch file running on the robot, convert the angles from 0 to 180 degrees and 0 to -180 degrees to 0 to 360 degrees. Lastly, the subscriber will print the average distance of obstacles 30 degrees off the nose of the robot."
   ]
  },
  {
   "cell_type": "markdown",
   "id": "8b389c58",
   "metadata": {},
   "source": [
    "```python\n",
    "#!/usr/bin/env python3\n",
    "import rospy, math\n",
    "# TODO: import correct message\n",
    "\n",
    "\n",
    "# lambda function to convert rad to deg\n",
    "RAD2DEG = lambda x: ((x)*180./math.pi)\n",
    "# convert LaserScan degree from -180 - 180 degs to 0 - 360 degs\n",
    "DEG_CONV = lambda deg: deg + 360 if deg < 0 else deg\n",
    "\n",
    "class LIDAR:    \n",
    "    \"\"\"Class to read lidar data from the Turtlebot3 LIDAR\"\"\"\n",
    "    def __init__(self):\n",
    "        # TODO: create a subscriber to the scan topic published by the lidar launch file\n",
    "\n",
    "        \n",
    "        self.ctrl_c = False\n",
    "        rospy.on_shutdown(self.shutdownhook)\n",
    "        \n",
    "    def callback_lidar(self, scan):\n",
    "    \tif not self.ctrl_c:\n",
    "\t    \tdegrees = []\n",
    "\t    \tranges = []\n",
    "\t    \t\n",
    "\t    \t# determine how many scans were taken during rotation\n",
    "\t        count = int(scan.scan_time / scan.time_increment)\n",
    "\t        \n",
    "\t        for i in range(count):\n",
    "\t            # using min angle and incr data determine curr angle, \n",
    "\t            # convert to degrees, convert to 360 scale\n",
    "\t            degrees.append(int(DEG_CONV(RAD2DEG(scan.angle_min + scan.angle_increment*i))))\n",
    "\t            rng = scan.ranges[i]\n",
    "\t            \n",
    "\t            # ensure range values are valid; set to 0 if not\n",
    "\t            if rng < scan.range_min or rng > scan.range_max:\n",
    "\t                ranges.append(0.0)\n",
    "\t            else:\n",
    "\t            \tranges.append(rng)\n",
    "\t        \n",
    "\t        # python way to iterate two lists at once!\n",
    "\t        for deg, rng in zip(degrees, ranges):\n",
    "\t        \t# TODO: sum and count the ranges 30 degrees off the nose of the robot\n",
    "                \n",
    "                \n",
    "            # TODO: ensure you don't divide by 0 and print average off the nose\n",
    "\t        \t\n",
    "            \n",
    "\tdef shutdownhook(self):\n",
    "\t\tprint(\"Shutting down lidar subscriber\")\n",
    "\t\tself.ctrl_c = True\n",
    "        \n",
    "if __name__ == '__main__':\n",
    "    rospy.init_node('lidar_sub')\n",
    "    LIDAR()\n",
    "    rospy.spin()\n",
    "```"
   ]
  },
  {
   "cell_type": "markdown",
   "id": "163478de",
   "metadata": {},
   "source": [
    "4. Save, exit, and make the node executable.\n",
    "\n",
    "4. Open a new terminal on the **Master** and run the **lidar_sub.py** node.\n",
    "\n",
    "4. Rotate the **Robot** and observe the distance off the nose."
   ]
  },
  {
   "cell_type": "markdown",
   "id": "401de7d2",
   "metadata": {},
   "source": [
    "## Checkpoint\n",
    "Once complete, get checked off by an instructor showing the output of your **lidar_sub** and **rqt_graph** node."
   ]
  },
  {
   "cell_type": "markdown",
   "id": "e67895ed",
   "metadata": {},
   "source": [
    "## Summary\n",
    "In this lesson you learned how to integrate the LIDAR and get the distance of objects off the nose of the robot using the pre-built LIDAR package. In the lab that corresponds to this lesson you will apply this knowledge to stop the robot a specified distance from an obstacle and turn."
   ]
  },
  {
   "cell_type": "markdown",
   "id": "71c66aea",
   "metadata": {},
   "source": [
    "## Cleanup\n",
    "In each terminal window, close the node by typing `ctrl+c`. Exit any SSH connections. Shutdown the notebook server by typing `ctrl+c` within the terminal you ran `jupyter-notebook` in. Select 'y'.\n",
    "\n",
    "**Ensure roscore is terminated before moving on to the lab.**"
   ]
  }
 ],
 "metadata": {
  "kernelspec": {
   "display_name": "Python 3",
   "language": "python",
   "name": "python3"
  },
  "language_info": {
   "codemirror_mode": {
    "name": "ipython",
    "version": 3
   },
   "file_extension": ".py",
   "mimetype": "text/x-python",
   "name": "python",
   "nbconvert_exporter": "python",
   "pygments_lexer": "ipython3",
   "version": "3.8.10"
  },
  "toc": {
   "base_numbering": 1,
   "nav_menu": {
    "height": "339px",
    "width": "355px"
   },
   "number_sections": true,
   "sideBar": true,
   "skip_h1_title": true,
   "title_cell": "Table of Contents",
   "title_sidebar": "Contents",
   "toc_cell": false,
   "toc_position": {
    "height": "calc(100% - 180px)",
    "left": "10px",
    "top": "150px",
    "width": "312.867px"
   },
   "toc_section_display": true,
   "toc_window_display": false
  }
 },
 "nbformat": 4,
 "nbformat_minor": 5
}
