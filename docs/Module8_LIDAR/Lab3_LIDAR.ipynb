{
 "cells": [
  {
   "cell_type": "markdown",
   "id": "edfba5c0",
   "metadata": {},
   "source": [
    "# Lab 3: LIDAR\n",
    "---"
   ]
  },
  {
   "cell_type": "markdown",
   "id": "b454075b",
   "metadata": {},
   "source": [
    "## Purpose\n",
    "This lab will integrate the Turtlebot3 LIDAR with the existing controller to drive the robot forward and turn 90 degrees when there is an obstacle."
   ]
  },
  {
   "cell_type": "markdown",
   "id": "45254996",
   "metadata": {},
   "source": [
    "## Master\n",
    "### Setup:\n",
    "In the `/master_ws/src/ece387_master_spring202X-USERNAME/` folder, create a **lab3** package which depends on **rospy**, **std_msgs**, **geometry_msgs**, and **turtlebot3_bringup**.\n",
    "\n",
    "Make and source your workspace."
   ]
  },
  {
   "cell_type": "markdown",
   "id": "6a2eb3f2",
   "metadata": {},
   "source": [
    "### controller.py\n",
    "1. Copy the controller.py file from lab2 into the lab3 package.\n",
    "\n",
    "1. Open the controller.py file from lab3 using the **Atom** editor.\n",
    "\n",
    "1. Import the laser message used in ICE8.\n",
    "\n",
    "1. Copy the 2 lambda functions from ICE8 (RAD2DEG & DEG_CONV).\n",
    "\n",
    "1. Add the following Class variables within the class above the `__init__()` function:\n",
    "\n",
    "    1. `DISTANCE = 0.4 # distance from the wall to stop`\n",
    "    1. `K_POS = 100 # proportional constant for slowly stopping as you get closer to the wall`\n",
    "    1. `MIN_LIN_X = 0.05 # limit m/s values sent to Turtlebot3`\n",
    "    1. `MAX_LIN_X = 0.2 # limit m/s values sent to Turtlebot3`\n",
    "    \n",
    "1. Add the following to the `__init__()` function:\n",
    "\n",
    "    1. Instance variable, `self.avg_dist`, initialized to 0 to store the average dist off the nose.\n",
    "    1. Instance variable, `self.got_avg`, initialized to False to store when an average is calculated.\n",
    "    1. A subscriber to the LIDAR topic of interest with a callback to the callback_lidar() function.\n",
    "\n",
    "1. Add the `callback_lidar()` function from ICE8, removing print statements and setting the instance variables, `self.avg_dist` and `self.got_avg`.\n",
    "\n",
    "1. Edit the `callback_controller()` to accomplish the following:\n",
    "\n",
    "    1. Remove user input.\n",
    "    1. When not turning and you have an average LIDAR reading, calculate the distance error (`actual dist` - `desired dist`) and use that to drive your robot straight at a proportional rate (very similar to how we calculated the turn rate in lab 2).\n",
    "    1. Limit the linear speed of the robot to `MIN_LIN_X` and `MAX_LIN_X`.\n",
    "    1. If within `DISTANCE` of a wall, then stop and start turning (left or right, you decide).\n",
    "    \n",
    "    > 💡️ **Tip:** You should be able to reuse a lot of code for this step!\n",
    "    \n",
    "    1. Save the linear x and angular z values to the `Twist` message and publish.\n",
    "    \n",
    "1. Save, exit, and make executable if necessary."
   ]
  },
  {
   "cell_type": "markdown",
   "id": "9119215b",
   "metadata": {},
   "source": [
    "## Create a launch file\n",
    "1. Create a launch directory in your lab3 folder.\n",
    "1. Copy the launch file from lab2 to lab3.\n",
    "1. Open the **turtlebot3_lidar.launch** file from the *turtlebot3_bringup* package and copy the arguments and nodes to your lab3 launch file.\n",
    "1. Add the machine tag to the lidar node."
   ]
  },
  {
   "cell_type": "markdown",
   "id": "8bb9b76f",
   "metadata": {},
   "source": [
    "## Run your nodes\n",
    "1. On the **Master**, open a terminal and run the **lab3.launch** file"
   ]
  },
  {
   "cell_type": "markdown",
   "id": "569bc559",
   "metadata": {},
   "source": [
    "## Report\n",
    "Complete a short 2-3 page report that utilizes the format and answers the questions within the report template. The report template and an example report can be found within the Team under `Resources/Lab Template`.\n",
    "\n",
    "> 📝️ **NOTE:** We will be primarily grading sections 3.3 System level design and 3.4 Testing for this lab, but do include the entire lab as you will need other components for the final project report."
   ]
  },
  {
   "cell_type": "markdown",
   "id": "d2956ed9",
   "metadata": {},
   "source": [
    "## Turn-in Requirements\n",
    "**[25 points]** Demonstration of Turtlebot3 driving and not hitting a wall (preferably in person, but can be recorded and posted to Teams under the Lab3 channel).\n",
    "\n",
    "**[50 points]** Report via Gradescope.\n",
    "\n",
    "**[25 points]** Code: push your code to your repository. Also, include a screen shot of the **controller.py** file at the end of your report."
   ]
  }
 ],
 "metadata": {
  "kernelspec": {
   "display_name": "Python 3 (ipykernel)",
   "language": "python",
   "name": "python3"
  },
  "language_info": {
   "codemirror_mode": {
    "name": "ipython",
    "version": 3
   },
   "file_extension": ".py",
   "mimetype": "text/x-python",
   "name": "python",
   "nbconvert_exporter": "python",
   "pygments_lexer": "ipython3",
   "version": "3.8.10"
  },
  "toc": {
   "base_numbering": 1,
   "nav_menu": {
    "height": "339px",
    "width": "355px"
   },
   "number_sections": true,
   "sideBar": true,
   "skip_h1_title": true,
   "title_cell": "Table of Contents",
   "title_sidebar": "Contents",
   "toc_cell": false,
   "toc_position": {
    "height": "calc(100% - 180px)",
    "left": "10px",
    "top": "150px",
    "width": "165px"
   },
   "toc_section_display": true,
   "toc_window_display": false
  }
 },
 "nbformat": 4,
 "nbformat_minor": 5
}
