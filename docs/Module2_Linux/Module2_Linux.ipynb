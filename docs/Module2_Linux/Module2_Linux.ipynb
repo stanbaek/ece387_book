{
 "cells": [
  {
   "cell_type": "markdown",
   "metadata": {},
   "source": [
    "# Module 2: Linux for Robotics\n",
    "---\n",
    "### A note on this document\n",
    "This document is known as a Jupyter notebook; it is used in academia and industry to allow text and executable code to coexist in a very easy to read format. Blocks can contain text or code, and for blocks containing code, press `Shift + Enter` to run the code. Earlier blocks of code need to be run for the later blocks of code to work."
   ]
  },
  {
   "cell_type": "markdown",
   "metadata": {},
   "source": [
    "## Purpose\n",
    "This Jupyter Notebook accompanies the introduction to Linux notetaker used in class. We will apply the knowledge you learned by interacting with the Ubuntu Operating System (OS) on the Master."
   ]
  },
  {
   "cell_type": "markdown",
   "metadata": {},
   "source": [
    "## Linux Commands\n",
    "During class we went over a number of basic Linux commands. Open a terminal on the Master and let's practice using those commands (use the shortcut `ctrl+alt+t` to open a new terminal window or select an open terminal and hit `ctrl+shift+t` to open a new terminal tab).\n",
    "\n",
    "When observing the terminal (or Shell) you will note the syntax `username@hostname:`(i.e., on the master: `dfec@masterX:`, on the robot: `pi@robotX`), the current working directory (i.e., `~`, which represents the home folder of the user), and lastly the '$' character and a blinking cursor. This line is the prompt and the blinking cursor indicates the terminal is active and ready for commands.\n",
    "\n",
    "Run the commands to move to the home folder and make a new directory:\n",
    "\n",
    "`cd` \n",
    "\n",
    "`mkdir my_folder`\n",
    "\n",
    "> 💡️ **Tip:** In Linux, if you highlight a command you can paste it into the terminal by clicking the scroll wheel.\n",
    "\n",
    "Change directories into your new folder:\n",
    "\n",
    "`cd my_folder`\n",
    "\n",
    "Create a new bash script we can use to drive the TurtleBot3:\n",
    "\n",
    "`touch move_turtlebot.sh`\n",
    "\n",
    "A bash script is a regular text file that allows you to run any command you would run within the terminal. We will use it to run a few ROS command line tools to move our TurtleBot.\n",
    "\n",
    "We can use the Nano text editor to edit a file within the terminal. There are a number of text editors within the terminal and WWIII might be fought over which is best; some other options include Vim and Emacs. Nano is one of the more simple editors for quick edits. Feel free to use whichever works best for you, but all guidance within this course will be based on Nano.\n",
    "\n",
    "Edit the new bash script:\n",
    "\n",
    "`nano move_turtlebot.sh`\n",
    "\n",
    "Copy the following into the script:"
   ]
  },
  {
   "cell_type": "markdown",
   "metadata": {},
   "source": [
    "```bash\n",
    "#!/bin/bash\n",
    "\n",
    "ARG1=$1\n",
    "\n",
    "if [ $ARG1 == 'forward' ]; then\n",
    "    rostopic pub /cmd_vel geometry_msgs/Twist \"linear:\n",
    "    x: 0.15\n",
    "    y: 0.0\n",
    "    z: 0.0\n",
    "angular:\n",
    "    x: 0.0\n",
    "    y: 0.0\n",
    "    z: 0.0\"\n",
    "        \n",
    "elif [ $ARG1 == 'rotate' ]; then\n",
    "    rostopic pub /cmd_vel geometry_msgs/Twist \"linear:\n",
    "    x: 0.0\n",
    "    y: 0.0\n",
    "    z: 0.0\n",
    "angular:\n",
    "    x: 0.0\n",
    "    y: 0.0\n",
    "    z: 0.5\"\n",
    "        \n",
    "elif [ $ARG1 == 'stop' ]; then\n",
    "    rostopic pub /cmd_vel geometry_msgs/Twist \"linear:\n",
    "    x: 0.0\n",
    "    y: 0.0\n",
    "    z: 0.0\n",
    "angular:\n",
    "    x: 0.0\n",
    "    y: 0.0\n",
    "    z: 0.0\"\n",
    "else\n",
    "echo \"Please enter one of the following:\n",
    "    forward\n",
    "    rotate\n",
    "    stop\"\n",
    "fi\n",
    "```"
   ]
  },
  {
   "cell_type": "markdown",
   "metadata": {},
   "source": [
    "Typing `ctrl+s` saves the file and then typing `ctrl+x` exits Nano.\n",
    "\n",
    "Again, a bash script just runs commands exactly as you would within a terminal. The above code takes an argument and publishes a *Twist* message over the **/cmd_vel** topic to drive the robot accordingly.\n",
    "\n",
    "Before running this script, let's get our ROS environment setup:\n",
    "\n",
    "1. Open a new terminal and type `roscore`.\n",
    "2. Open a new terminal tab and run our TurtleBot3 simulation: \n",
    "\n",
    "    `roslaunch turtlebot3_gazebo turtlebot3_empty_world.launch`\n",
    "\n",
    "Now, in a new terminal, run the script you created:\n",
    "\n",
    "`./move_turtlebot.sh`\n",
    "\n",
    "Did you get an error? That is because the permissions have not been properly set and you do not have execute permissions. You can observe the permissions of a file by typing `ls -la`.\n",
    "\n",
    "For the `move_turtlebot.sh` file you should see `-rw-rw-r--`. The first position indicates file type ('d' for directory, '-' for regular file), the next three positions indicate read (r), write (w), and execute (x) permissions for the file owner (u), the next three indicate permisions for the group owner of the file (g), and the last three characters indicate permissions for all other users (o).\n",
    "\n",
    "You can change the permissions of a file or directory using the command `chmod`:\n",
    "\n",
    "> ⌨️ **Syntax:**  `chmod <groups to assign the permissions><permissions to assign/remove> <file/folder>`\n",
    "\n",
    "For example, if we wanted to give the Owner execute permissions, you can enter the command:\n",
    "\n",
    "`chmod u+x move_turtlebot.sh` \n",
    "\n",
    "Typically we will give all users executable permissions (`chmod +x move_turtlebot.sh`). This isn't the most secure thing to do, but in our controlled environment, it isn't an issue. If you type `ls -la` now you should see the 'x' permission added for each permission group (`-rwxrwxr-x`).\n",
    "\n",
    "Try running your script again:\n",
    "\n",
    "`./move_turtlebot.sh rotate`\n",
    "\n",
    "> 📝️ **Note:** You can remove permissions by utilizing the '-' character instead of '+'.\n",
    "\n",
    "Move to your github repo that you previously created:\n",
    "\n",
    "`cd ~/master_ws/src/ece387_master_sp23-USERNAME/master/`\n",
    "\n",
    "Now we are going to create a new ROS package.  You learned this in the previous homework assignment, but we will continue practicing:\n",
    "\n",
    "`catkin_create_pkg module02 std_msgs rospy roscpp`\n",
    "\n",
    "Before we go any further, it is always a good idea to compile your workspace with the new package.  To do that, we will use a command `catkin_make` from within the top-level of the workspace:\n",
    "\n",
    "`cd ~/master_ws`\n",
    "\n",
    "`catkin_make`\n",
    "\n",
    "Now go back to the `my_folder` that you created at the beginning of the lesson and create a new bash script, `bash_script.sh`, to accomplish the following:\n",
    "\n",
    "1. Moves into the package you just created (you will need to figure out the complete path to this folder)\n",
    "1. Creates a directory called `my_scripts`\n",
    "1. Moves into that directory\n",
    "1. Creates a file called **move_turtlebot_square.py**\n",
    "1. Lists all files showing the permissions\n",
    "1. Modifies the permissions of the **move_turtlebot_square.py** file so all groups have executable permissions\n",
    "1. Lists all files again showing the updated permissions\n",
    "\n",
    "Now run the script. If successful you should see the file listed without and then with execute permissions.\n",
    "\n",
    "We are done with this script so let's remove it (you will need to either use the complete path to the file you want to remove, or be in the directory of the file you want to remove). The `rm` command can remove folders or files. If you want to learn more about a command there are two helpful tools: **Help**: `rm --help`; **Manual**: `man rm`.\n",
    "\n",
    "Type the following to remove our bash script: \n",
    "\n",
    "`rm bash_script.sh`. \n",
    "\n",
    "> 📝️ **Note:** To delete a whole folder add the `-r` tag to remove directories and thier contents recursively (e.g., `rm -r my_folder`, but don't remove your folder just yet).\n",
    "\n",
    "We can copy (`cp`, just like ctrl+c in a GUI) and move (`mv`, just like ctrl+x in a GUI) files and folders as well. Let's copy the `move_turtlebot.sh` to the `my_scripts` folder you created earlier:\n",
    "\n",
    "`cp move_turtlebot.sh ~/master_ws/src/ece387_master_sp23-USERNAME/master/module02/my_scripts`\n",
    "\n",
    "> ⌨️ **Syntax:**  `cp <source> <destination>`\n",
    "\n",
    "> 📝️ **Note:** For the above to work, you must already be in the same folder as the `move_turtlebot.sh` file. Otherwise you have to use the absolute file path, such as `~/my_folder/move_turtlebot.sh`.\n",
    "\n",
    "You can now delete your `my_folder` folder.\n",
    "\n",
    "`cd ..`\n",
    "\n",
    "`rm -r my_folder`\n",
    "\n",
    "Change directories to your `my_scripts` folder. We can use a ROS tool, `roscd`, to change directories to ROS packages without using the absolute file path:\n",
    "\n",
    "`roscd module02/my_scripts`\n",
    "\n",
    "> ⌨️ **Syntax:**  `roscd <package/folder>`\n",
    "\n",
    "Edit the **move_turtlebot_square.py** file and paste the following contents:"
   ]
  },
  {
   "cell_type": "markdown",
   "metadata": {},
   "source": [
    "```python\n",
    "#!/usr/bin/env python3\n",
    "import rospy, time, math\n",
    "from geometry_msgs.msg import Twist\n",
    "\n",
    "class MoveTurtleBot():\n",
    "    def __init__(self):\n",
    "        self.pub = rospy.Publisher('cmd_vel', Twist, queue_size=1)\n",
    "        self.cmd = Twist()\n",
    "        self.ctrl_c = False\n",
    "        rospy.on_shutdown(self.shutdownhook)\n",
    "        self.rate = rospy.Rate(10)    # 10 Hz\n",
    "        \n",
    "    def publish_cmd_vel_once(self):\n",
    "        \"\"\"\n",
    "        In case publishing fails on first attempt\n",
    "        \"\"\"\n",
    "        while not self.ctrl_c:\n",
    "            connections = self.pub.get_num_connections()\n",
    "            if connections > 0:\n",
    "                self.pub.publish(self.cmd)\n",
    "                rospy.loginfo(\"Cmd Published\")\n",
    "                break\n",
    "            else:\n",
    "                self.rate.sleep()\n",
    "                \n",
    "    def shutdownhook(self):\n",
    "        rospy.loginfo(\"Shutting down. Stopping TurtleBot!\")\n",
    "        self.stop_turtlebot()\n",
    "        self.ctrl_c = True\n",
    "        \n",
    "    def stop_turtlebot(self):\n",
    "        self.cmd.linear.x = 0.0\n",
    "        self.cmd.angular.z = 0.0\n",
    "        self.publish_cmd_vel_once()\n",
    "        \n",
    "    def move_time(self, moving_time = 10.0, lin_spd = 0.2, ang_spd = 0.2):\n",
    "        self.cmd.linear.x = lin_spd\n",
    "        self.cmd.angular.z = ang_spd\n",
    "        \n",
    "        self.publish_cmd_vel_once()\n",
    "        time.sleep(moving_time)\n",
    "        \n",
    "    def move_square(self):\n",
    "        i = 0\n",
    "        \n",
    "        while not self.ctrl_c:\n",
    "            # Move Forward\n",
    "            self.move_time(moving_time = 2.0, lin_spd = 0.2, ang_spd = 0)\n",
    "            # Turn\n",
    "            ang_spd = 0.5    # rad/sec\n",
    "            moving_time = math.radians(90)/ang_spd\n",
    "            self.move_time(moving_time = moving_time, lin_spd = 0.0, ang_spd = ang_spd)\n",
    "            \n",
    "        \n",
    "if __name__ == '__main__':\n",
    "    rospy.init_node('move_turtlebot')\n",
    "    move_object = MoveTurtleBot()\n",
    "    try:\n",
    "        move_object.move_square()\n",
    "    except rospy.ROSInterruptException:\n",
    "        pass\n",
    "```"
   ]
  },
  {
   "cell_type": "markdown",
   "metadata": {},
   "source": [
    "There is a lot going on in this script, but hopefully after the previous lesson some of it makes sense. To summarize, the script creates a node, `move_turtlebot`, that publishes **Twist** messages to the **/cmd_vel** topic to drive the robot in a square: drive forward, turn 90 degrees, drive forward, repeat. This script will run until killed using `ctrl+c`.\n",
    "\n",
    "The script is already executable, so you can run it using ROS!\n",
    "\n",
    "`rosrun module02 move_turtlebot_square.py`\n",
    "\n",
    "> 📝️ **Note:** It won't be a perfect square as the robot doesn't turn perfectly, but it will be close!\n",
    "\n",
    "The robot is now driving in a square until the script is killed. If you select the terminal and hit `ctrl+c`, it will kill the script.\n",
    "\n",
    "Run the script again and this time hit `ctrl+z`. You can see that the robot is still running, but the commands are not updating. This is because `ctrl+z` suspends the current process, but does not kill it. We can observe all running processes on Linux by typing `ps -faux`. As you can see, there are a lot! The `grep` command allows us to filter these processes. Try the following:\n",
    "\n",
    "`ps -faux | grep move_turtlebot_square.py`\n",
    "\n",
    "The first entry should be our process and the leftmost number is the process ID (PID). We can kill any process using this number and the `kill` command:\n",
    "\n",
    "`kill PID` replacing PID with the number listed. \n",
    "\n",
    "If you hit enter again, you should see that the process was killed. Unfortunately, the TurtleBot will just continue to execute the last command sent, so you need to kill the simulation as well. Just select that terminal and hit `ctrl+c`.\n",
    "\n",
    "The `grep` tool is very powerful and can be used with any Linux command. For example, if you wanted to see all turtlebot packages available to us, we could type the following:\n",
    "\n",
    "`rospack list`\n",
    "\n",
    "There are a lot, so this isn't very helpful, but we can filter this command!\n",
    "\n",
    "`rospack list | grep turtlebot`\n",
    "\n",
    "The vertical line, '|', pipes the results of the first command into the second command, so we can filter all packages looking only for turtlebot packages."
   ]
  },
  {
   "cell_type": "markdown",
   "metadata": {},
   "source": [
    "## Working with a remote machine\n",
    "Later in this course you will drive your TurtleBot around unplugged from a monitor and keyboard, but you will still need access to the Raspberry Pi on the robot to run ROS nodes. One of the easiest ways to remotely access a Linux machine is through a secure shell. To create a secure shell, you need the uesrname and hostname of the computer you want to remote into. For the Raspberry Pis, all usernames are `pi` and the hostname is your robot number (e.g., `robot0`).\n",
    "\n",
    "1. Open a terminal on your master\n",
    "1. Check connectivity to the robot:\n",
    "\n",
    "    `ping robotX`\n",
    "    <br>\n",
    "1. Create a secure shell to the robot:\n",
    "\n",
    "    `ssh pi@robotX`\n",
    "> ⌨️ **Syntax:**  `ssh <username>@<hostname/IP address>`\n",
    "\n",
    "1. Enter the robot's password\n",
    "\n",
    "    You should see that the terminal lists the `pi` username and your robot's hostname, `robotX`. Any command you run in this shell will execute on the robot.\n",
    "    <br>\n",
    "1. Create a new package on the robot we can use to store scripts for this module. This package should be called 'module02' and should be in your student repo.  From the terminal ssh'd into the robot, type:\n",
    "\n",
    "`cd ece387_robot_sp23-USERNAME/robot/`\n",
    "\n",
    "`catkin_create_pkg module02 \n",
    "\n",
    "1. Change directories to your new folder.\n",
    "\n",
    "1. Print the working directory. You should get '/home/pi/robot_ws/src/ece387_robot_sp23-USERNAME/robot/'\n",
    "\n",
    "1. You can type `exit` to close an SSH connection (but don't close the connection yet!).\n",
    "\n",
    "> 📝️ **Note:** At times, there may be network issues and name resolution will fail. What this means is if you try to ping the robot from the master or vice versa using the hostname (e.g., `ping master0`) it will not work. However, it will work if you use the IP address (e.g., `ping 192.168.2.120`). To do this, you need the IP address of the machine you want to access. This IP address will change periodically. The easiest way to determine the current IP Address is, with the machine plugged into a monitor and keyboard, type `ip addr` in a terminal. This will list all of the network interfaces on the machine (such as *eth0* for ethernet and *wlan0* for wireless). You are looking for the `inet` field under `wlan0` (may be called `wlo1`). Now you can unplug the roobt from the monitor, ping the IP address to check connectivity, and then SSH into the robot.\n",
    "\n",
    "The other remote tool you may want to take advantage of is SCP, which securely copies a file to a remote machine.\n",
    "\n",
    "> ⌨️ **Syntax:**  `scp <src location> <username>@<hostname>:<dest location>`\n",
    "\n",
    "For example, copy the `move_turtlebot_square.py` file to your robot by typing the following in a new terminal on the master:\n",
    "\n",
    "`roscd module02/my_scripts`\n",
    "\n",
    "`scp move_turtlebot_square.py pi@robot0:/home/pi/robot_ws/src/ece387_robot_sp23-USERNAME/robot/module02/src/`\n",
    "\n",
    "> 📝️ **Note:** The destination uses the absolute path you printed earlier.\n",
    "\n",
    "In your secure shell list the contents of your 'my_scripts' folder. You should see the `move_turtlebot_square.py` file. Check that it is executable. If it is not, make it executable.\n",
    "\n",
    "Now let's move our TurtleBot using the script on the robot:\n",
    "\n",
    "1. Run roscore on the master.\n",
    "\n",
    "1. Run the simulated robot on the master.\n",
    "\n",
    "1. SSH into your robot Raspberry Pi.\n",
    "\n",
    "1. Run the move_turtlebot_square.py using the `rosrun` command on the robot.\n",
    "\n",
    "You are now controlling your simulation (which is running on the master) remotely from the robot. In future lessons you will have nodes running on your robot to drive the robot and will control the robot remotely from the master."
   ]
  },
  {
   "cell_type": "markdown",
   "metadata": {},
   "source": [
    "## ROS\n",
    "Below you will run ROS commands. The \"!\" character in the front allows us to run bash commands from Jupter and would **NOT** be used in the command line.\n",
    "\n",
    "Accomplish the following on the master by adding the commands necessary below:"
   ]
  },
  {
   "cell_type": "markdown",
   "metadata": {},
   "source": [
    "List all running nodes:"
   ]
  },
  {
   "cell_type": "code",
   "execution_count": null,
   "metadata": {},
   "outputs": [],
   "source": [
    "!"
   ]
  },
  {
   "cell_type": "markdown",
   "metadata": {},
   "source": [
    "List the active topics:"
   ]
  },
  {
   "cell_type": "code",
   "execution_count": null,
   "metadata": {
    "scrolled": true
   },
   "outputs": [],
   "source": [
    "!"
   ]
  },
  {
   "cell_type": "markdown",
   "metadata": {},
   "source": [
    "Display running nodes and communication between them:"
   ]
  },
  {
   "cell_type": "code",
   "execution_count": null,
   "metadata": {},
   "outputs": [],
   "source": [
    "!"
   ]
  },
  {
   "cell_type": "markdown",
   "metadata": {},
   "source": [
    "Exit the rqt_graph.\n",
    "\n",
    "Show information about a the **/cmd_vel** topic such as what type of messages are sent over the topic and publishing and subscribing nodes."
   ]
  },
  {
   "cell_type": "code",
   "execution_count": null,
   "metadata": {},
   "outputs": [],
   "source": [
    "!"
   ]
  },
  {
   "cell_type": "markdown",
   "metadata": {},
   "source": [
    "Display information about the message that is sent over the **/cmd_vel** topic."
   ]
  },
  {
   "cell_type": "code",
   "execution_count": null,
   "metadata": {},
   "outputs": [],
   "source": [
    "!"
   ]
  },
  {
   "cell_type": "markdown",
   "metadata": {},
   "source": [
    "Display messages sent over the **/cmd_vel** topic:"
   ]
  },
  {
   "cell_type": "code",
   "execution_count": null,
   "metadata": {},
   "outputs": [],
   "source": [
    "!"
   ]
  },
  {
   "cell_type": "markdown",
   "metadata": {},
   "source": [
    "## Checkpoint\n",
    "Once complete, get checked off by an instructor showing the output of each of the above.\n",
    "\n",
    "> 📝️ **Note:** You will use all of the above ROS commands for each lab to write your lab reports. You could create a bash script to run these commands automatically ;)\n",
    "\n",
    "Additionally, place screen captures showing each of the commands running or the windows they bring up into a folder within ../module02/Pictures on your master repo.  Then push the repo to get credit for this work."
   ]
  },
  {
   "cell_type": "markdown",
   "metadata": {},
   "source": [
    "## Summary\n",
    "You have seen a lot of different Linux/ROS commands during this lesson but it only scratches the surface. There are tons of online resources available if you want to learn more. I recommend working through a few of these tutorials: http://www.ee.surrey.ac.uk/Teaching/Unix/. They are fairly quick and willl give you more insight into the tools we discussed."
   ]
  },
  {
   "cell_type": "markdown",
   "metadata": {},
   "source": [
    "## Cleanup\n",
    "In each terminal window, close the node by typing `ctrl+c`. Exit any SSH connections. In each of the notebooks reset the Jupter kernel and clear output. Now it is safe to exit out of this window. Shutdown the notebook server by typing `ctrl+c` within the terminal you ran `jupyter-notebook` in. Select 'y'."
   ]
  }
 ],
 "metadata": {
  "kernelspec": {
   "display_name": "Python 3",
   "language": "python",
   "name": "python3"
  },
  "language_info": {
   "codemirror_mode": {
    "name": "ipython",
    "version": 3
   },
   "file_extension": ".py",
   "mimetype": "text/x-python",
   "name": "python",
   "nbconvert_exporter": "python",
   "pygments_lexer": "ipython3",
   "version": "3.8.10"
  },
  "toc": {
   "base_numbering": 1,
   "nav_menu": {
    "height": "339px",
    "width": "355px"
   },
   "number_sections": true,
   "sideBar": true,
   "skip_h1_title": false,
   "title_cell": "Table of Contents",
   "title_sidebar": "Contents",
   "toc_cell": false,
   "toc_position": {},
   "toc_section_display": true,
   "toc_window_display": true
  }
 },
 "nbformat": 4,
 "nbformat_minor": 5
}
