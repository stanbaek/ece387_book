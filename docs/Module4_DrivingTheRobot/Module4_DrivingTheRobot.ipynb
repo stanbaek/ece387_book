{
 "cells": [
  {
   "cell_type": "markdown",
   "metadata": {},
   "source": [
    "# Module 4: Driving the Robot\n",
    "---\n",
    "### A note on this document\n",
    "Now that you have a better understanding of the Linux operating system and Python programming language the Jupyter Notebooks will be used primarily to guide you through the In-Class Exercises and Laboratories. You will execute the majority of your commands and code within the Linux terminal."
   ]
  },
  {
   "cell_type": "markdown",
   "metadata": {},
   "source": [
    "## Purpose\n",
    "This In-Class Exercise will introduce you to utilizing pre-built ROS packages to accomplish a task. It will also provide you experience interacting with someone else's source code (.py files) to learn how that component works. You will use ROS to run two nodes, **turtlebot3_core** and **teleop_twist_keyboard**, to drive the Turtlebot3 with a keyboard. You will continue to practice using ROS tools to observe how these components communicate."
   ]
  },
  {
   "cell_type": "markdown",
   "metadata": {},
   "source": [
    "## Code used to drive the robot\n",
    "1. On the Master, open a terminal and run **roscore**.\n",
    "\n",
    "1. Open a new terminal on the Master and create a secure shell into the Turtlebot3 using the SSH command you learned during Module 2. This will allow you to run commands as if you were on the Turtlebot3.\n",
    "\n",
    "1. Using the secure shell, open the source code for the **turtlebot3_core** launch using the nano command line editor tool through the rosed command:\n",
    "\n",
    "    `rosed turtlebot3_bringup turtlebot3_core.launch`\n",
    "\n",
    "    > ⌨️ **Syntax:**  `rosed <package> <filename>`\n",
    "\n",
    "    > 📝️ **Note:** You may remember when we set up our *.bashrc* file we set the system variable **EDITOR** to `nano -w`. This enables the `rosed` command to utilize the nano editor.\n",
    "   \n",
    "    We will learn more about launch files in a few modules, but just understand that a launch file is used to launch one or more ROS nodes. This paticular launch file only launches one node, **serial_node.py**. This node will connect to the OpenCR controller on the Turtlebot3 using the port and baud rate parameters. This connection will enable us to send *Twist* messages over the **/cmd_vel** topic to drive the Turtlebot3 using the keyboard.\n",
    "\n",
    "1. Close the editor by hitting `ctrl+x`.\n",
    "\n",
    "1. It is always a good idea to check that the Turtlebot3 is communicating with the Master. To do this, we can list the active topics the Turtlebot3 sees. Run the following within your secure shell:\n",
    "\n",
    "    `rostopic list`\n",
    "\n",
    "    If all is well, then there should be two topics provided by **roscore** running on the Master: **/rosout** and **/rosout_agg**. We will typically ignore these topics.\n",
    "\n",
    "1. Run the **turtlebot3_core.launch** file using the `roslaunch` command:\n",
    "\n",
    "    `roslaunch turtlebot3_bringup turtlebot3_core.launch`\n",
    "    \n",
    "    > ⌨️ **Syntax:** `roslaunch <package> <launchfile>`\n",
    "    \n",
    "    Your Turtlebot3 is now ready to drive and should be listening for *Twist* messages to be sent over the **/cmd_vel** topic."
   ]
  },
  {
   "cell_type": "markdown",
   "metadata": {},
   "source": [
    "## Driving the robot\n",
    "1. Open a new terminal on the Master and observe the nodes currently running:\n",
    "\n",
    "    `rosrun rqt_graph rqt_graph`\n",
    "    \n",
    "    You should only see one node running right now, **turtlebot3_core**, with no connections.\n",
    "    \n",
    "1. Open a new terminal tab and list the active topics. There should be one active topic other than the ones created by **roscore**: **/cmd_vel**.\n",
    "\n",
    "1. We used the **/cmd_vel** topic when driving the simulated Turtlebot3, but let's refresh our memory about the topic:\n",
    "\n",
    "    `rostopic info cmd_vel`\n",
    "    \n",
    "    As you can see the **/cmd_vel** topic is currently subscribed to by the **turtlebot3_core** with no publishers (just as we would expect after seeing the rqt_graph). We also note that topic utilizes the *Twist* message type. The following will show information about the fields within the *Twist* message sent over the **/cmd_vel** topic:\n",
    "    \n",
    "    `rostopic type cmd_vel | rosmsg show`\n",
    "\n",
    "1. You can find information about pre-built packages by googling the package name along with the ROS distribution. Open up your favorite browser and google \"teleop twist keyboard noetic\". The first result should be from the ROS wiki page.\n",
    "\n",
    "1. Ensure the ROS package **teleop_twist_keyboard** is installed on your Master:\n",
    "\n",
    "    `rospack find teleop_twist_keyboard`\n",
    "    \n",
    "    If installed, the command should return the absolute path to the package, similar to `/opt/ros/noetic/share/teleop_twist_keyboard`\n",
    "    \n",
    "    If the command instead returns an error, then you need to install the package using apt:\n",
    "    \n",
    "    `sudo apt install ros-noetic-teleop-twist-keyboard`\n",
    "    \n",
    "    > 💡️ **Tip:** All packages built for Noetic can be downloaded in the above manner (ros-noetic-desired-pkg with underscores in the package name replaced by dashes). Some packages were only built for previous ROS distribution and will have to be built from source (we will demonstrate this at a future time).\n",
    "    \n",
    "1. Run the **teleop_twist_keyboard** node on the Master:\n",
    "\n",
    "    > 💡️ **Tip:** Don't forget your tab completion! You can start typing a package name or node and then hit tab for it to complete the command for you!\n",
    "    \n",
    "    `rosrun teleop_twist_keyboard teleop_twist_keyboard.py`\n",
    "    \n",
    "1. Before we get too excited and drive the Turtlebot3 off a cliff, observe how the nodes communicate using the **rqt_graph** tool in a new terminal (if you still have the previous rqt_graph running, you can hit the refresh button in the top left corner).\n",
    "\n",
    "1. Select the terminal that has the **teleop_twist_keyboard** node running and observe the instructions for sending *Twist* messages. These are the same as when driving the simulated Turtlebot3.\n",
    "\n",
    "1. The Turtlebot3 operates best with a linear velocity between 0.2 m/s and 0.5 m/s. It turns best with an angular velocity between 0.5 rad/s and 1.5 rad/s. Drive the Turtlebot3 using these parameters."
   ]
  },
  {
   "cell_type": "markdown",
   "metadata": {},
   "source": [
    "## ROS\n",
    "In labs throughout this course we will request information about the topics, nodes, and messages within your system. Accomplish the following in a new terminal on your Master (you can ignore all nodes/topics that result from **roscore**)."
   ]
  },
  {
   "cell_type": "markdown",
   "metadata": {},
   "source": [
    "1. List all running nodes.\n",
    "\n",
    "1. Determine what topics the nodes subscribe and publish to (repeat for each node).\n",
    "\n",
    "1. Display running nodes and communication between them.\n",
    "\n",
    "1. List the active topics.\n",
    "\n",
    "1. Determine the type of messages sent over the topics (repeat for each topic).\n",
    "\n",
    "1. Determine the fields of the messages.\n",
    "\n",
    "1. Observe the information sent over a topic (repeat for each topic)."
   ]
  },
  {
   "cell_type": "markdown",
   "metadata": {},
   "source": [
    "## Checkpoint\n",
    "Once complete, push screenshots showing the output of each of the above to your student repo on github in a /master/module04 folder."
   ]
  },
  {
   "cell_type": "markdown",
   "metadata": {},
   "source": [
    "## Summary\n",
    "In this exercise you examined and used pre-built packages and source code to drive the Turtlebot3 and understand how the system worked. You then were able to analyze the topics, nodes, and messages within the ROS system to better understand the flow of information and control. The **pro-tips** presented throughout this exercise will make you a better user of Linux and ROS."
   ]
  },
  {
   "cell_type": "markdown",
   "metadata": {},
   "source": [
    "## Cleanup\n",
    "In each terminal window, close the node by typing `ctrl+c`. Exit any SSH connections. In each of the notebooks reset the Jupter kernel and clear output. Now it is safe to exit out of this window. Shutdown the notebook server by typing `ctrl+c` within the terminal you ran `jupyter-notebook` in. Select 'y'."
   ]
  }
 ],
 "metadata": {
  "kernelspec": {
   "display_name": "Python 3",
   "language": "python",
   "name": "python3"
  },
  "language_info": {
   "codemirror_mode": {
    "name": "ipython",
    "version": 3
   },
   "file_extension": ".py",
   "mimetype": "text/x-python",
   "name": "python",
   "nbconvert_exporter": "python",
   "pygments_lexer": "ipython3",
   "version": "3.8.10"
  },
  "toc": {
   "base_numbering": 1,
   "nav_menu": {
    "height": "339px",
    "width": "355px"
   },
   "number_sections": true,
   "sideBar": true,
   "skip_h1_title": true,
   "title_cell": "Table of Contents",
   "title_sidebar": "Contents",
   "toc_cell": false,
   "toc_position": {},
   "toc_section_display": true,
   "toc_window_display": false
  }
 },
 "nbformat": 4,
 "nbformat_minor": 5
}
