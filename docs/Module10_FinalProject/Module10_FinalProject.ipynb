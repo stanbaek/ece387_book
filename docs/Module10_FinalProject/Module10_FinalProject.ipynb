{
 "cells": [
  {
   "cell_type": "markdown",
   "id": "edfba5c0",
   "metadata": {},
   "source": [
    "# Module 10: Final Project\n",
    "---"
   ]
  },
  {
   "cell_type": "markdown",
   "id": "e4f8bc27",
   "metadata": {},
   "source": [
    "## Purpose\n",
    "Students will utilize all previous modules to drive their robot in the DFEC halls. The LIDAR will be used to drive the robot centered between two walls, the IMU will be used to make 90/180/360 deg turns, OpenCV will be used to identify randomly placed stopped signs and act accordingly, and apriltag_ros will be used to navigate the robot throughout the halls (when the robot is a certain distance from the apriltag then turn left, right, around, or the robot has reached the goal depending on the tag ID)."
   ]
  },
  {
   "cell_type": "markdown",
   "id": "ccd28861",
   "metadata": {},
   "source": [
    "## Design\n",
    "The first step to a complex task such as this is to plan. You will not be successful if you just start trying to code a solution. Therefore, **you should not write ANY code until you have completed the design phase of the project**. There are a number of tools to help with design, but we will focus on two: graphs and finite state machines.\n",
    "\n",
    "**Graphs:**\n",
    "Build a notional ROS graph for your application using PowerPoint or another digital tool. You have a lot of practice up to this point using the *rqt_graph* tool, but this time you will design the graph before the project. Ensure your graph includes all nodes and topics you foresee using and which machine these will operate on.\n",
    "\n",
    "**Finite State Machine:**\n",
    "A finite state machine is a great way to plan out the logic flow of a complex problem. It allows you to visualize how your robot will transition states (current condition of the robot: e.g., driving forward) based on the inputs received from all of the sensors. Your \"base state\" will be driving forward. The rest is up to your design. For simplicity, we will use a Moore Machine, so the output only relies on the current state. \n",
    "\n",
    "A quick intro on finite state machines from ECE382 is here: [ECE382: Module 7 Part 1](https://youtu.be/A8m0qo2MKlE?list=PLLvuo5HBf25HKbK18J28lJNyPkltAxfln&t=26)\n",
    "\n",
    "> 📝️ **Note:** Make sure you include both the graph and FSM in your final report in the design section under System level design (3.3)"
   ]
  },
  {
   "cell_type": "markdown",
   "id": "89efcefa",
   "metadata": {},
   "source": [
    "## Design Presentation\n",
    "Your team will present both the ROS graph and Finite State Machine in class in a presentation taking no more than 10 minutes."
   ]
  },
  {
   "cell_type": "markdown",
   "id": "da2ebb3a",
   "metadata": {},
   "source": [
    "## Implementation\n",
    "The robot will start at an undisclosed location within the large halls of DFEC. When traveling between two walls (the halls are approximately 4 meters wide), the robot should stay in the middle of the hall. There will be an AprilTag at the end of each hall providing turn commands:\n",
    "\n",
    "- ID 0: turn left\n",
    "- ID 1: turn right\n",
    "- ID 2: turn around\n",
    "\n",
    "You should stop halfway in the intersection (approximately 2 meters from the tag) and turn accordingly. Stop signs will be randomly placed throughout the halls. The robot should stop approximately 1 meter from the stop sign, wait five seconds, and then continue driving forward.\n",
    "\n",
    "If at any time there is an open door in the hall, the robot should ignore the door and continue driving in the middle of the hall.\n",
    "\n",
    "When the goal is discovered (AprilTag ID 3), the robot should stop within 0.5 meters from the goal and complete a 360 deg turn."
   ]
  },
  {
   "cell_type": "markdown",
   "id": "2c325d9d",
   "metadata": {},
   "source": [
    "## Demonstration\n",
    "Demonstrations will be accomplished on lesson 40 using a randomized course. Points will be deducted for failed checkpoints (e.g., does not stop and turn within approximately 2 meters of AprilTag 0). The final rubric is below and each item is worth **6 points** for a total of **60 points** assigned to the demonstration:\n",
    "\n",
    "- Wall following\n",
    "- Ignore doors\n",
    "- AprilTag0: Turn left\n",
    "- AprilTag1: Turn right\n",
    "- AprilTag2: Turn around\n",
    "- AprilTag3: Turn 360\n",
    "- Stop halfway in intersectiom\n",
    "- Stop 1.0 meters from stop sign\n",
    "- Wait 5 seconds after stop sign detection\n",
    "- Stop within 0.5 meters from AprilTag3"
   ]
  },
  {
   "cell_type": "markdown",
   "id": "91c1bea5",
   "metadata": {},
   "source": [
    "## Turn-in Requirements\n",
    "**[10 points]** Design Presentation\n",
    "\n",
    "**[60 points]** Demonstration\n",
    "\n",
    "**[30 points]** Report and code\n",
    "\n",
    "> ⚠️ **Warning:** The final project is 25% of your final grade!"
   ]
  }
 ],
 "metadata": {
  "kernelspec": {
   "display_name": "Python 3 (ipykernel)",
   "language": "python",
   "name": "python3"
  },
  "language_info": {
   "codemirror_mode": {
    "name": "ipython",
    "version": 3
   },
   "file_extension": ".py",
   "mimetype": "text/x-python",
   "name": "python",
   "nbconvert_exporter": "python",
   "pygments_lexer": "ipython3",
   "version": "3.8.10"
  },
  "toc": {
   "base_numbering": 1,
   "nav_menu": {
    "height": "339px",
    "width": "355px"
   },
   "number_sections": true,
   "sideBar": true,
   "skip_h1_title": true,
   "title_cell": "Table of Contents",
   "title_sidebar": "Contents",
   "toc_cell": false,
   "toc_position": {
    "height": "calc(100% - 180px)",
    "left": "10px",
    "top": "150px",
    "width": "312.867px"
   },
   "toc_section_display": true,
   "toc_window_display": true
  }
 },
 "nbformat": 4,
 "nbformat_minor": 5
}
