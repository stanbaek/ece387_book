{
 "cells": [
  {
   "cell_type": "markdown",
   "metadata": {},
   "source": [
    "# Module 0: Setting Up GIT Repositories\n",
    "---"
   ]
  },
  {
   "cell_type": "markdown",
   "metadata": {},
   "source": [
    "## Purpose\n",
    "Setup GIT repositories and access on the **Master**."
   ]
  },
  {
   "cell_type": "markdown",
   "metadata": {},
   "source": [
    "## Create a repo within the GitHub Classroom:\n",
    "\n",
    "1. Browse to [github.com](github.com) and create a GitHub account if you do not already have one. It is useful if your username is something that identifies you (e.g., bneff1013).\n",
    "1. **One student per group** do the following on your personal computer:\n",
    "    1. First we are going to setup the repo for the Master.  This will allow your instructor to see all of your commits throughout the semester.\n",
    "    1. Browse to [https://classroom.github.com/a/OoH0u_XW](https://classroom.github.com/a/OoH0u_XW)\n",
    "    1. Select \"Accept this assignment\"\n",
    "    1. You may need to hit refresh, but eventually it will provide you a link to the repository.\n",
    "\t1. Browse to your repository.\n",
    "\t1. Note the url for your repository (save this link, it is the best way to check if your repo is updated).\n",
    "\t1. Go to Settings -> Manage access -> and \"Invite teams or people\".\n",
    "\t1. Provide access to your team member using their GitHub user name.\n",
    "    1. Now we need to do the exact same thing to setup the repo for the robot.\n",
    "\t1. Browse to [https://classroom.github.com/a/0MPq4TNE](https://classroom.github.com/a/0MPq4TNE) and repeat steps c-h."
   ]
  },
  {
   "cell_type": "markdown",
   "metadata": {},
   "source": [
    "## Enable SSH connection to your GitHub account\n",
    "1. Open a terminal on your **Master** (ctrl+alt+t).\n",
    "1. The same student as step 1.1.2 do the following:\n",
    "    1. Generate a new SSH key, substituting your GitHub email address:\n",
    "        ```bash\n",
    "        ssh-keygen -t ed25519 -C \"your_email@example.com\"\n",
    "        ```\n",
    "\t1. When you're prompted to \"Enter a file in which to save the key,\" click enter.\n",
    "\t1. At the prompt, type a secure passphrase.\n",
    "\t1. Start the ssh-agent in the background and add your SSH private key to the ssh-agent:\n",
    "        ```bash\n",
    "        eval \"$(ssh-agent -s)\"\n",
    "        ssh-add ~/.ssh/id_ed25519\n",
    "        ```\n",
    "\t1. Open the public key:\n",
    "        ```bash\n",
    "        nano ~/.ssh/id_ed25519.pub\n",
    "        ```\n",
    "\t1. Select the contents of the file (maximize the window and ensure it has your GIT email at the end), right click, and select copy.\n",
    "    1. Open a web browser and sign in to your GitHub account.\n",
    "\t1. In the upper-right corner of any page, click your profile photo, then click **Settings**.\n",
    "        ![logo](Figures/userbar-account-settings.png)\n",
    "\t1. In the user settings sidebar, click **SSH and GPG keys**.\n",
    "\t\t![logo](Figures/settings-sidebar-ssh-keys.png)\n",
    "    1. Click **New SSH key**\n",
    "\t\t![logo](Figures/ssh-add-ssh-key.png)\n",
    "\t1. In the \"Title\" field, add a descriptive label for the new key, such as \"MasterX\".\n",
    "\t1. Paste your key into the \"Key\" field (contents of the `.pub` file).\n",
    "\t1. Click **Add SSH key**.\n",
    "\t1. If prompted, confirm your GitHub password.\n",
    "    1. Create a secure shell connection to your **Robot** (password is dfec3141)\n",
    "        ```bash\n",
    "        ssh pi@robotX\n",
    "        ```\n",
    "    1. Repeat steps a-f on your **Robot** and j-n on your **Master**."
   ]
  },
  {
   "cell_type": "markdown",
   "metadata": {},
   "source": [
    "## Clone repository to your master.\n",
    "1. On the **Master**, open the GitHub repository and copy your repo address using the SSH mode:\n",
    "\t![logo](Figures/clone.PNG)\n",
    "1. Open a terminal and browse to your workspace source folder:\n",
    "    ```bash\n",
    "    cd ~/master_ws/src/\n",
    "    ```\n",
    "1. Clone your repo using the username and password used when you generated the SSH key, replacing **USERNAME** with your GitHub username:\n",
    "    ```bash\n",
    "    git clone git@github.com:ECE387/ece387_master_spring202X-USERNAME.git\n",
    "    ```\n",
    "\n",
    "1. Update your git email address and the last name for you and your team mate.\n",
    "    ```bash\n",
    "    git config --global user.email \"you@example.com\"\n",
    "    git config --global user.name \"Lastname1 Lastname2\"\n",
    "    ```"
   ]
  },
  {
   "cell_type": "markdown",
   "metadata": {},
   "source": [
    "## Clone repository to your robot.\n",
    "1. Create a secure shell connection to your robot:\n",
    "    ```basj\n",
    "    ssh pi@robotX\n",
    "    ```\n",
    "1. Ensure you are in the ROS robot workspace src directory.\n",
    "    ```bash\n",
    "    cd robot_ws/src\n",
    "    ```\n",
    "1. Clone the robot repository:\n",
    "    ```bash\n",
    "    git clone git@github.com:ECE387/ece387_robot_spring202X-USERNAME.git\n",
    "    ```\n",
    "1. Update your git email address and the last name for you and your team mate.\n",
    "    ```bash\n",
    "    git config --global user.email \"you@example.com\"\n",
    "    git config --global user.name \"Lastname1 Lastname2\"\n",
    "    ```"
   ]
  }
 ],
 "metadata": {
  "kernelspec": {
   "display_name": "Python 3",
   "language": "python",
   "name": "python3"
  },
  "language_info": {
   "codemirror_mode": {
    "name": "ipython",
    "version": 3
   },
   "file_extension": ".py",
   "mimetype": "text/x-python",
   "name": "python",
   "nbconvert_exporter": "python",
   "pygments_lexer": "ipython3",
   "version": "3.8.10"
  },
  "toc": {
   "base_numbering": 1,
   "nav_menu": {
    "height": "339px",
    "width": "355px"
   },
   "number_sections": true,
   "sideBar": true,
   "skip_h1_title": true,
   "title_cell": "Table of Contents",
   "title_sidebar": "Contents",
   "toc_cell": false,
   "toc_position": {
    "height": "calc(100% - 180px)",
    "left": "10px",
    "top": "150px",
    "width": "312.867px"
   },
   "toc_section_display": true,
   "toc_window_display": true
  }
 },
 "nbformat": 4,
 "nbformat_minor": 5
}
